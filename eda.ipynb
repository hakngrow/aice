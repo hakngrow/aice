{
 "cells": [
  {
   "cell_type": "markdown",
   "metadata": {},
   "source": [
    "### 1. Load Libraries"
   ]
  },
  {
   "cell_type": "code",
   "execution_count": 474,
   "metadata": {
    "scrolled": true
   },
   "outputs": [],
   "source": [
    "import numpy as np\n",
    "import pandas as pd\n",
    "\n",
    "import matplotlib.pyplot as plt\n",
    "import seaborn as sns\n",
    "\n",
    "import data\n",
    "\n",
    "%matplotlib inline"
   ]
  },
  {
   "cell_type": "markdown",
   "metadata": {},
   "source": [
    "### 2. Load Dataset"
   ]
  },
  {
   "cell_type": "code",
   "execution_count": 507,
   "metadata": {
    "scrolled": true
   },
   "outputs": [
    {
     "data": {
      "text/html": [
       "<div>\n",
       "<style scoped>\n",
       "    .dataframe tbody tr th:only-of-type {\n",
       "        vertical-align: middle;\n",
       "    }\n",
       "\n",
       "    .dataframe tbody tr th {\n",
       "        vertical-align: top;\n",
       "    }\n",
       "\n",
       "    .dataframe thead th {\n",
       "        text-align: right;\n",
       "    }\n",
       "</style>\n",
       "<table border=\"1\" class=\"dataframe\">\n",
       "  <thead>\n",
       "    <tr style=\"text-align: right;\">\n",
       "      <th></th>\n",
       "      <th>date</th>\n",
       "      <th>hr</th>\n",
       "      <th>weather</th>\n",
       "      <th>temperature</th>\n",
       "      <th>feels_like_temperature</th>\n",
       "      <th>relative_humidity</th>\n",
       "      <th>windspeed</th>\n",
       "      <th>psi</th>\n",
       "      <th>guest_scooter</th>\n",
       "      <th>registered_scooter</th>\n",
       "    </tr>\n",
       "  </thead>\n",
       "  <tbody>\n",
       "    <tr>\n",
       "      <th>0</th>\n",
       "      <td>2012-07-02</td>\n",
       "      <td>23</td>\n",
       "      <td>clear</td>\n",
       "      <td>109.0</td>\n",
       "      <td>140.0</td>\n",
       "      <td>51.0</td>\n",
       "      <td>7.0</td>\n",
       "      <td>13</td>\n",
       "      <td>37</td>\n",
       "      <td>631</td>\n",
       "    </tr>\n",
       "    <tr>\n",
       "      <th>1</th>\n",
       "      <td>2011-12-22</td>\n",
       "      <td>10</td>\n",
       "      <td>cloudy</td>\n",
       "      <td>80.2</td>\n",
       "      <td>109.4</td>\n",
       "      <td>82.0</td>\n",
       "      <td>6.0</td>\n",
       "      <td>35</td>\n",
       "      <td>41</td>\n",
       "      <td>894</td>\n",
       "    </tr>\n",
       "    <tr>\n",
       "      <th>2</th>\n",
       "      <td>2011-02-25</td>\n",
       "      <td>11</td>\n",
       "      <td>clear</td>\n",
       "      <td>90.4</td>\n",
       "      <td>120.2</td>\n",
       "      <td>77.0</td>\n",
       "      <td>30.0</td>\n",
       "      <td>30</td>\n",
       "      <td>27</td>\n",
       "      <td>350</td>\n",
       "    </tr>\n",
       "    <tr>\n",
       "      <th>3</th>\n",
       "      <td>2012-03-10</td>\n",
       "      <td>1</td>\n",
       "      <td>clear</td>\n",
       "      <td>71.8</td>\n",
       "      <td>95.0</td>\n",
       "      <td>36.0</td>\n",
       "      <td>17.0</td>\n",
       "      <td>40</td>\n",
       "      <td>2</td>\n",
       "      <td>354</td>\n",
       "    </tr>\n",
       "    <tr>\n",
       "      <th>4</th>\n",
       "      <td>2011-06-19</td>\n",
       "      <td>5</td>\n",
       "      <td>cloudy</td>\n",
       "      <td>102.2</td>\n",
       "      <td>132.8</td>\n",
       "      <td>78.0</td>\n",
       "      <td>0.0</td>\n",
       "      <td>1</td>\n",
       "      <td>23</td>\n",
       "      <td>82</td>\n",
       "    </tr>\n",
       "  </tbody>\n",
       "</table>\n",
       "</div>"
      ],
      "text/plain": [
       "         date  hr weather  temperature  feels_like_temperature  \\\n",
       "0  2012-07-02  23   clear        109.0                   140.0   \n",
       "1  2011-12-22  10  cloudy         80.2                   109.4   \n",
       "2  2011-02-25  11   clear         90.4                   120.2   \n",
       "3  2012-03-10   1   clear         71.8                    95.0   \n",
       "4  2011-06-19   5  cloudy        102.2                   132.8   \n",
       "\n",
       "   relative_humidity  windspeed  psi  guest_scooter  registered_scooter  \n",
       "0               51.0        7.0   13             37                 631  \n",
       "1               82.0        6.0   35             41                 894  \n",
       "2               77.0       30.0   30             27                 350  \n",
       "3               36.0       17.0   40              2                 354  \n",
       "4               78.0        0.0    1             23                  82  "
      ]
     },
     "execution_count": 507,
     "metadata": {},
     "output_type": "execute_result"
    }
   ],
   "source": [
    "# Extract and retrieve rentals data from Microsoft SQL server\n",
    "# Refer to documentation within data module for technical and configuration details\n",
    "df_rentals = data.get_rentals()\n",
    "\n",
    "df_rentals.head()"
   ]
  },
  {
   "cell_type": "markdown",
   "metadata": {},
   "source": [
    "### 3. Data Insights <a id='data_insights'></a>"
   ]
  },
  {
   "cell_type": "code",
   "execution_count": 508,
   "metadata": {},
   "outputs": [
    {
     "data": {
      "text/plain": [
       "(18643, 10)"
      ]
     },
     "execution_count": 508,
     "metadata": {},
     "output_type": "execute_result"
    }
   ],
   "source": [
    "df_rentals.shape"
   ]
  },
  {
   "cell_type": "markdown",
   "metadata": {},
   "source": [
    "- Dataset contains 18,643 observations with 10 features.\n",
    "\n",
    "\n",
    "- There are 24 hours a day, 365 days a year. So over 2 years, there should be a maximum 17,520 (24 x 365 x 2) observations.\n",
    "\n",
    "\n",
    "- Given that there are more hourly observations than hours over a 2 year period, some of the observations may be duplicates or erroneous. \n",
    "\n",
    "\n",
    "- The problem statement is to predict the total number of active e-scooter users given the above dataset.\n",
    "\n",
    "\n",
    "- Each observation records the number of guest and registered users using rental e-scooters in a particular hour of a day.\n",
    "\n",
    "\n",
    "- I shall assume that the total number of active e-scooter users in a particular hour of a day is the sum of the guest and registered users <i><b>i.e. active users = guest users + registered users.</b></i>"
   ]
  },
  {
   "cell_type": "code",
   "execution_count": 476,
   "metadata": {
    "scrolled": true
   },
   "outputs": [
    {
     "data": {
      "text/plain": [
       "array(['date', 'hr', 'weather', 'temperature', 'feels_like_temperature',\n",
       "       'relative_humidity', 'windspeed', 'psi', 'guest_scooter',\n",
       "       'registered_scooter'], dtype=object)"
      ]
     },
     "execution_count": 476,
     "metadata": {},
     "output_type": "execute_result"
    }
   ],
   "source": [
    "df_rentals.columns.values"
   ]
  },
  {
   "cell_type": "markdown",
   "metadata": {},
   "source": [
    "- Column labels of the rentals dataset"
   ]
  },
  {
   "cell_type": "code",
   "execution_count": 141,
   "metadata": {
    "scrolled": true
   },
   "outputs": [
    {
     "name": "stdout",
     "output_type": "stream",
     "text": [
      "<class 'pandas.core.frame.DataFrame'>\n",
      "RangeIndex: 18643 entries, 0 to 18642\n",
      "Data columns (total 10 columns):\n",
      "date                      18643 non-null object\n",
      "hr                        18643 non-null int64\n",
      "weather                   18643 non-null object\n",
      "temperature               18643 non-null float64\n",
      "feels_like_temperature    18643 non-null float64\n",
      "relative_humidity         18643 non-null float64\n",
      "windspeed                 18643 non-null float64\n",
      "psi                       18643 non-null int64\n",
      "guest_scooter             18643 non-null int64\n",
      "registered_scooter        18643 non-null int64\n",
      "dtypes: float64(4), int64(4), object(2)\n",
      "memory usage: 1.4+ MB\n"
     ]
    }
   ],
   "source": [
    "df_rentals.info()"
   ]
  },
  {
   "cell_type": "markdown",
   "metadata": {},
   "source": [
    "- No column with null/missing value."
   ]
  },
  {
   "cell_type": "markdown",
   "metadata": {},
   "source": [
    "### 4. Summary Statistics"
   ]
  },
  {
   "cell_type": "code",
   "execution_count": 477,
   "metadata": {},
   "outputs": [
    {
     "data": {
      "text/html": [
       "<div>\n",
       "<style scoped>\n",
       "    .dataframe tbody tr th:only-of-type {\n",
       "        vertical-align: middle;\n",
       "    }\n",
       "\n",
       "    .dataframe tbody tr th {\n",
       "        vertical-align: top;\n",
       "    }\n",
       "\n",
       "    .dataframe thead th {\n",
       "        text-align: right;\n",
       "    }\n",
       "</style>\n",
       "<table border=\"1\" class=\"dataframe\">\n",
       "  <thead>\n",
       "    <tr style=\"text-align: right;\">\n",
       "      <th></th>\n",
       "      <th>hr</th>\n",
       "      <th>temperature</th>\n",
       "      <th>feels_like_temperature</th>\n",
       "      <th>relative_humidity</th>\n",
       "      <th>windspeed</th>\n",
       "      <th>psi</th>\n",
       "      <th>guest_scooter</th>\n",
       "      <th>registered_scooter</th>\n",
       "    </tr>\n",
       "  </thead>\n",
       "  <tbody>\n",
       "    <tr>\n",
       "      <th>count</th>\n",
       "      <td>18643.000000</td>\n",
       "      <td>18643.000000</td>\n",
       "      <td>18643.000000</td>\n",
       "      <td>18643.000000</td>\n",
       "      <td>18643.000000</td>\n",
       "      <td>18643.000000</td>\n",
       "      <td>18643.000000</td>\n",
       "      <td>18643.000000</td>\n",
       "    </tr>\n",
       "    <tr>\n",
       "      <th>mean</th>\n",
       "      <td>11.537145</td>\n",
       "      <td>88.433037</td>\n",
       "      <td>117.313608</td>\n",
       "      <td>62.733251</td>\n",
       "      <td>12.741082</td>\n",
       "      <td>25.142198</td>\n",
       "      <td>106.388940</td>\n",
       "      <td>1074.471383</td>\n",
       "    </tr>\n",
       "    <tr>\n",
       "      <th>std</th>\n",
       "      <td>6.924281</td>\n",
       "      <td>16.252200</td>\n",
       "      <td>20.364081</td>\n",
       "      <td>19.315897</td>\n",
       "      <td>8.217008</td>\n",
       "      <td>14.442978</td>\n",
       "      <td>147.151664</td>\n",
       "      <td>1055.916934</td>\n",
       "    </tr>\n",
       "    <tr>\n",
       "      <th>min</th>\n",
       "      <td>0.000000</td>\n",
       "      <td>48.100000</td>\n",
       "      <td>60.800000</td>\n",
       "      <td>0.000000</td>\n",
       "      <td>0.000000</td>\n",
       "      <td>0.000000</td>\n",
       "      <td>-2.000000</td>\n",
       "      <td>-2.000000</td>\n",
       "    </tr>\n",
       "    <tr>\n",
       "      <th>25%</th>\n",
       "      <td>6.000000</td>\n",
       "      <td>75.200000</td>\n",
       "      <td>100.400000</td>\n",
       "      <td>48.000000</td>\n",
       "      <td>7.000000</td>\n",
       "      <td>13.000000</td>\n",
       "      <td>12.000000</td>\n",
       "      <td>240.000000</td>\n",
       "    </tr>\n",
       "    <tr>\n",
       "      <th>50%</th>\n",
       "      <td>12.000000</td>\n",
       "      <td>88.700000</td>\n",
       "      <td>118.400000</td>\n",
       "      <td>63.000000</td>\n",
       "      <td>13.000000</td>\n",
       "      <td>25.000000</td>\n",
       "      <td>50.000000</td>\n",
       "      <td>807.000000</td>\n",
       "    </tr>\n",
       "    <tr>\n",
       "      <th>75%</th>\n",
       "      <td>18.000000</td>\n",
       "      <td>102.200000</td>\n",
       "      <td>134.600000</td>\n",
       "      <td>78.000000</td>\n",
       "      <td>17.000000</td>\n",
       "      <td>38.000000</td>\n",
       "      <td>144.000000</td>\n",
       "      <td>1535.500000</td>\n",
       "    </tr>\n",
       "    <tr>\n",
       "      <th>max</th>\n",
       "      <td>23.000000</td>\n",
       "      <td>131.000000</td>\n",
       "      <td>179.600000</td>\n",
       "      <td>100.000000</td>\n",
       "      <td>57.000000</td>\n",
       "      <td>50.000000</td>\n",
       "      <td>1099.000000</td>\n",
       "      <td>6203.000000</td>\n",
       "    </tr>\n",
       "  </tbody>\n",
       "</table>\n",
       "</div>"
      ],
      "text/plain": [
       "                 hr   temperature  feels_like_temperature  relative_humidity  \\\n",
       "count  18643.000000  18643.000000            18643.000000       18643.000000   \n",
       "mean      11.537145     88.433037              117.313608          62.733251   \n",
       "std        6.924281     16.252200               20.364081          19.315897   \n",
       "min        0.000000     48.100000               60.800000           0.000000   \n",
       "25%        6.000000     75.200000              100.400000          48.000000   \n",
       "50%       12.000000     88.700000              118.400000          63.000000   \n",
       "75%       18.000000    102.200000              134.600000          78.000000   \n",
       "max       23.000000    131.000000              179.600000         100.000000   \n",
       "\n",
       "          windspeed           psi  guest_scooter  registered_scooter  \n",
       "count  18643.000000  18643.000000   18643.000000        18643.000000  \n",
       "mean      12.741082     25.142198     106.388940         1074.471383  \n",
       "std        8.217008     14.442978     147.151664         1055.916934  \n",
       "min        0.000000      0.000000      -2.000000           -2.000000  \n",
       "25%        7.000000     13.000000      12.000000          240.000000  \n",
       "50%       13.000000     25.000000      50.000000          807.000000  \n",
       "75%       17.000000     38.000000     144.000000         1535.500000  \n",
       "max       57.000000     50.000000    1099.000000         6203.000000  "
      ]
     },
     "execution_count": 477,
     "metadata": {},
     "output_type": "execute_result"
    }
   ],
   "source": [
    "df_rentals.describe()"
   ]
  },
  {
   "cell_type": "markdown",
   "metadata": {},
   "source": [
    "- Large differnece in the 75th %tile and max values of columns <b>windspeed</b>, <b>guest_scooter</b>, <b>registered_scooter</b>\n",
    "- This observation suggests that there are extreme values or outliers in these columns. "
   ]
  },
  {
   "cell_type": "markdown",
   "metadata": {},
   "source": [
    "### 5. Data Cleaning\n",
    "\n",
    "#### 5.1 <b style=\"font-family:'Courier New'; font-size:18px\">date</b> Column"
   ]
  },
  {
   "cell_type": "code",
   "execution_count": 142,
   "metadata": {
    "scrolled": false
   },
   "outputs": [
    {
     "data": {
      "text/plain": [
       "dtype('O')"
      ]
     },
     "execution_count": 142,
     "metadata": {},
     "output_type": "execute_result"
    }
   ],
   "source": [
    "# Check data type of the date column\n",
    "df_rentals.dtypes['date']"
   ]
  },
  {
   "cell_type": "markdown",
   "metadata": {},
   "source": [
    "- Convert the <b style=\"font-family:'Courier New'; font-size:15px\">date</b> column from <b style=\"font-family:'Courier New'; font-size:15px\">string</b> to <b style=\"font-family:'Courier New'; font-size:15px\">date</b> data type.\n",
    "\n",
    "\n",
    "- Combine the <b style=\"font-family:'Courier New'; font-size:15px\">date</b> and <b style=\"font-family:'Courier New'; font-size:15px\">hr</b> columns to form a <b style=\"font-family:'Courier New'; font-size:15px\">datetime</b> column.\n",
    "\n",
    "\n",
    "- This is to facilitate the use of datetime/timeseries operations when doing exploration and feature engineering later."
   ]
  },
  {
   "cell_type": "code",
   "execution_count": 509,
   "metadata": {
    "scrolled": false
   },
   "outputs": [
    {
     "data": {
      "text/plain": [
       "dtype('<M8[ns]')"
      ]
     },
     "execution_count": 509,
     "metadata": {},
     "output_type": "execute_result"
    }
   ],
   "source": [
    "# Rename date column to date_str to indicate string data type\n",
    "df_rentals.rename(columns={'date': 'date_str'}, inplace=True)\n",
    "\n",
    "# Convert date column from string to datetime data type\n",
    "df_rentals['date'] = pd.to_datetime(df_rentals['date_str'])\n",
    "\n",
    "# Verify date column data type\n",
    "df_rentals.dtypes['date']"
   ]
  },
  {
   "cell_type": "code",
   "execution_count": 510,
   "metadata": {},
   "outputs": [
    {
     "data": {
      "text/plain": [
       "dtype('<M8[ns]')"
      ]
     },
     "execution_count": 510,
     "metadata": {},
     "output_type": "execute_result"
    }
   ],
   "source": [
    "# Create datetime column by concatenating the date and hr columns\n",
    "df_rentals['datetime'] = df_rentals.apply(lambda row: row.date_str + ' ' + str(row.hr), axis=1) + ':00'\n",
    "\n",
    "# Convert datetime column from string to datetime data type\n",
    "df_rentals.datetime = pd.to_datetime(df_rentals.datetime)\n",
    "\n",
    "# Verify datetime column data type\n",
    "df_rentals.dtypes['datetime']"
   ]
  },
  {
   "cell_type": "markdown",
   "metadata": {},
   "source": [
    "#### 5.2 <b style=\"font-family:'Courier New'; font-size:18px\">hr</b> Column <a id='hr_column'></a>"
   ]
  },
  {
   "cell_type": "code",
   "execution_count": 423,
   "metadata": {},
   "outputs": [
    {
     "data": {
      "text/plain": [
       "dtype('int64')"
      ]
     },
     "execution_count": 423,
     "metadata": {},
     "output_type": "execute_result"
    }
   ],
   "source": [
    "# Check data type of the hr column\n",
    "df_rentals.dtypes['hr']"
   ]
  },
  {
   "cell_type": "markdown",
   "metadata": {},
   "source": [
    "- The hour of the day when the rentals are made should be categorical in nature.\n",
    "\n",
    "\n",
    "- Convert the <b>hr</b> column from integer to string data type."
   ]
  },
  {
   "cell_type": "code",
   "execution_count": 511,
   "metadata": {},
   "outputs": [
    {
     "data": {
      "text/plain": [
       "dtype('O')"
      ]
     },
     "execution_count": 511,
     "metadata": {},
     "output_type": "execute_result"
    }
   ],
   "source": [
    "# Rename hr column to hr_str to indicate string data type\n",
    "df_rentals.rename(columns={'hr': 'hr_str'}, inplace=True)\n",
    "\n",
    "# Convert hr column from int to string data type\n",
    "df_rentals.hr_str = df_rentals.hr_str.apply(str)\n",
    "\n",
    "# Verify hr_str column data type\n",
    "df_rentals.dtypes['hr_str']"
   ]
  },
  {
   "cell_type": "code",
   "execution_count": 465,
   "metadata": {
    "scrolled": true
   },
   "outputs": [
    {
     "data": {
      "text/plain": [
       "array(['23', '10', '11', '1', '5', '17', '22', '7', '18', '0', '9', '15',\n",
       "       '12', '19', '4', '8', '2', '20', '6', '16', '21', '3', '14', '13'],\n",
       "      dtype=object)"
      ]
     },
     "execution_count": 465,
     "metadata": {},
     "output_type": "execute_result"
    }
   ],
   "source": [
    "# Check the number of unique hr values\n",
    "unique_hrs = df_rentals.hr_str.unique()\n",
    "\n",
    "unique_hrs"
   ]
  },
  {
   "cell_type": "code",
   "execution_count": 454,
   "metadata": {},
   "outputs": [
    {
     "data": {
      "text/plain": [
       "24"
      ]
     },
     "execution_count": 454,
     "metadata": {},
     "output_type": "execute_result"
    }
   ],
   "source": [
    "len(unique_hrs)"
   ]
  },
  {
   "cell_type": "markdown",
   "metadata": {},
   "source": [
    "- All 24 hours of the day are represented in the rentals dataset."
   ]
  },
  {
   "cell_type": "code",
   "execution_count": 512,
   "metadata": {
    "scrolled": true
   },
   "outputs": [
    {
     "data": {
      "text/plain": [
       "CategoricalDtype(categories=['0', '1', '10', '11', '12', '13', '14', '15', '16', '17',\n",
       "                  '18', '19', '2', '20', '21', '22', '23', '3', '4', '5', '6',\n",
       "                  '7', '8', '9'],\n",
       "                 ordered=False)"
      ]
     },
     "execution_count": 512,
     "metadata": {},
     "output_type": "execute_result"
    }
   ],
   "source": [
    "# Convert the hr column from string to categorical data type\n",
    "df_rentals['hr'] = df_rentals.hr_str.astype('category')\n",
    "\n",
    "df_rentals.dtypes['hr']"
   ]
  },
  {
   "cell_type": "markdown",
   "metadata": {},
   "source": [
    "#### 5.3 <b style=\"font-family:'Courier New'; font-size:18px\">weather</b> Column <a id='weather_column'></a>"
   ]
  },
  {
   "cell_type": "code",
   "execution_count": 467,
   "metadata": {},
   "outputs": [
    {
     "data": {
      "text/plain": [
       "array(['clear', 'cloudy', 'light snow/rain', 'loudy', 'CLOUDY', 'CLEAR',\n",
       "       'lear', 'LIGHT SNOW/RAIN', 'clar', 'heavy snow/rain', 'cludy',\n",
       "       'liht snow/rain'], dtype=object)"
      ]
     },
     "execution_count": 467,
     "metadata": {},
     "output_type": "execute_result"
    }
   ],
   "source": [
    "df_rentals.weather.unique()"
   ]
  },
  {
   "cell_type": "markdown",
   "metadata": {},
   "source": [
    "- The <b>weather</b> column contains categorical data.\n",
    "- The <b>weather</b> data is 'dirty', clean up is neccessary. \n",
    "- Mixed cases i.e. clear and CLEAR..\n",
    "- Incorrect spelling e.g. lear, clar\n",
    "\n",
    "\n",
    "- Correct values 'lear' and 'clar' to be 'clear'.\n",
    "- Correct values 'cludy' and 'loudy' to be 'cloudy'.\n",
    "- Correct value 'liht snow/rain' to be 'light snow/rain'."
   ]
  },
  {
   "cell_type": "code",
   "execution_count": 513,
   "metadata": {},
   "outputs": [
    {
     "data": {
      "text/plain": [
       "array(['clear', 'cloudy', 'light snow/rain', 'heavy snow/rain'],\n",
       "      dtype=object)"
      ]
     },
     "execution_count": 513,
     "metadata": {},
     "output_type": "execute_result"
    }
   ],
   "source": [
    "# Standardized weather column to lower case characters\n",
    "df_rentals.weather = df_rentals.weather.str.lower()\n",
    "\n",
    "dict_weather = {\n",
    "\n",
    "    # Replace incorrect values 'lear' and 'clar' with 'clear'\n",
    "    'lear': 'clear',\n",
    "    'clar': 'clear',\n",
    "\n",
    "    # Replace incorrect values 'cludy' and 'loudy' with 'cloudy'\n",
    "    'cludy': 'cloudy',\n",
    "    'loudy': 'cloudy',\n",
    "\n",
    "    # Replace incorrect value 'liht snow/rain' with 'light snow/rain'\n",
    "    'liht snow/rain': 'light snow/rain'\n",
    "}\n",
    "\n",
    "# Replace incorrect values in weather column\n",
    "df_rentals.replace({'weather': dict_weather}, inplace=True)\n",
    "\n",
    "# Verify that the incorrect values have been replaced\n",
    "df_rentals.weather.unique()"
   ]
  },
  {
   "cell_type": "code",
   "execution_count": 514,
   "metadata": {},
   "outputs": [
    {
     "data": {
      "text/plain": [
       "CategoricalDtype(categories=['clear', 'cloudy', 'heavy snow/rain', 'light snow/rain'], ordered=False)"
      ]
     },
     "execution_count": 514,
     "metadata": {},
     "output_type": "execute_result"
    }
   ],
   "source": [
    "# Convert the weather column from string to categorical data type\n",
    "df_rentals['weather'] = df_rentals.weather.astype('category')\n",
    "\n",
    "df_rentals.dtypes['weather']"
   ]
  },
  {
   "cell_type": "markdown",
   "metadata": {},
   "source": [
    "- The <b>weather</b> column contains 4 unique categorical values i.e. clear, cloudy, light snow/rain and heavy snow/rain.\n",
    "\n",
    "\n",
    "- One-hot encoding can be applied to the <b>weather</b> column later in feature engineering."
   ]
  },
  {
   "cell_type": "markdown",
   "metadata": {},
   "source": [
    "#### 5.4 <b style=\"font-family:'Courier New'; font-size:18px\">temperature</b>, <b style=\"font-family:'Courier New'; font-size:18px\">feels_like_temperature</b> Columns<a id='temperature_feels_like_temperature_columns'></a>"
   ]
  },
  {
   "cell_type": "code",
   "execution_count": 17,
   "metadata": {
    "scrolled": false
   },
   "outputs": [
    {
     "data": {
      "text/plain": [
       "(131.0, 48.1)"
      ]
     },
     "execution_count": 17,
     "metadata": {},
     "output_type": "execute_result"
    }
   ],
   "source": [
    "# Get the maximum and minimum temperature recorded\n",
    "max(df_rentals.temperature), min(df_rentals.temperature)"
   ]
  },
  {
   "cell_type": "code",
   "execution_count": 18,
   "metadata": {},
   "outputs": [
    {
     "data": {
      "text/plain": [
       "(179.6, 60.8)"
      ]
     },
     "execution_count": 18,
     "metadata": {},
     "output_type": "execute_result"
    }
   ],
   "source": [
    "# Get maximum and minimum feels_like_temperature recorded\n",
    "max(df_rentals.feels_like_temperature), min(df_rentals.feels_like_temperature)"
   ]
  },
  {
   "cell_type": "code",
   "execution_count": 19,
   "metadata": {
    "scrolled": true
   },
   "outputs": [
    {
     "data": {
      "text/plain": [
       "240"
      ]
     },
     "execution_count": 19,
     "metadata": {},
     "output_type": "execute_result"
    }
   ],
   "source": [
    "# Number of observations with temperatures above 120°F\n",
    "len(df_rentals[df_rentals.temperature > 120])"
   ]
  },
  {
   "cell_type": "markdown",
   "metadata": {},
   "source": [
    "- I shall assume that values from the <b>temperature</b> and <b>feels_like_temperature</b> columns are in fahrenheit.\n",
    "\n",
    "- I shal assume that this dataset is gathered from a city/town since people are renting e-scooters and e-bikes.\n",
    "\n",
    "\n",
    "- The maximum value of the <b>temperature</b> column is 131°F which is pretty close to the [highest temperature ever recorded](https://en.wikipedia.org/wiki/List_of_weather_records#Highest_temperatures_ever_recorded) of 134.1°F.\n",
    "\n",
    "\n",
    "- According to [TripSavvy](https://www.tripsavvy.com/the-worlds-hottest-cities-4070053), some of the highest temperatures recorded in a city include Phoenix 122°F, Marrakech 120°F, Mecca 121.6°F, Kuwait City 126°F, Ahvaz 129°F and Timbuktu 120°F.\n",
    "\n",
    "\n",
    "- There are 240 observations with temperatures above 120°F.  This dataset should be from a city known for its high temperatures. If otherwise, the temperatures in these observations need to be verified.\n",
    "\n",
    "\n",
    "- 'Feels like' temperature is also known as the [heat index](https://en.wikipedia.org/wiki/Heat_index).  In short, it is a temperature reading that factors in a component of relative humidity.\n",
    "\n",
    "\n",
    "- We can verify the values of the <b>feels_like_temperature</b> column using the heat index [formula](https://en.wikipedia.org/wiki/Heat_index#Formula).\n",
    "\n",
    "\n",
    "- Without any geographical information on this dataset given, I shall assume that all temperature readings are accurate. "
   ]
  },
  {
   "cell_type": "markdown",
   "metadata": {},
   "source": [
    "#### 5.5 <b style=\"font-family:'Courier New'; font-size:18px\">relative_humidity</b> Column"
   ]
  },
  {
   "cell_type": "code",
   "execution_count": 20,
   "metadata": {
    "scrolled": true
   },
   "outputs": [
    {
     "data": {
      "text/plain": [
       "(100.0, 0.0)"
      ]
     },
     "execution_count": 20,
     "metadata": {},
     "output_type": "execute_result"
    }
   ],
   "source": [
    "# Get the maximum and minimum values of relative humidity recorded\n",
    "max(df_rentals.relative_humidity), min(df_rentals.relative_humidity)"
   ]
  },
  {
   "cell_type": "code",
   "execution_count": 437,
   "metadata": {
    "scrolled": false
   },
   "outputs": [
    {
     "data": {
      "text/plain": [
       "25"
      ]
     },
     "execution_count": 437,
     "metadata": {},
     "output_type": "execute_result"
    }
   ],
   "source": [
    "# Number of observations with 0 relative humidity\n",
    "len(df_rentals[df_rentals.relative_humidity==0])"
   ]
  },
  {
   "cell_type": "markdown",
   "metadata": {},
   "source": [
    "- [Relative humidity](https://en.wikipedia.org/wiki/Relative_humidity) (RH) is the actual amount of water vapor present in relation to the capacity that the air has at a particular temperature.  It is express as a percentage.\n",
    "\n",
    "\n",
    "- A relative humidity reading of 0 implies [air devoid of water vapor](https://www.chicagotribune.com/news/ct-xpm-2011-12-16-ct-wea-1216-asktom-20111216-story.html). This is quite impossible given the climate conditions of a city/town, where I assume this dataset is gathered.  Values of 0 in the <b>relative_humidity</b> column need to be verified.\n",
    "\n",
    "\n",
    "- Since there are only 25 observations with 0 relative humidity, I've decided to drop them.\n",
    "\n",
    "\n",
    "- A relative humidity reading of 100 means that the air is totally saturated with water vapor and cannot hold any more, creating the possibility of rain.  So values of 100 in the <b>relative_humidity</b> column are valid."
   ]
  },
  {
   "cell_type": "code",
   "execution_count": 515,
   "metadata": {},
   "outputs": [
    {
     "data": {
      "text/plain": [
       "18643"
      ]
     },
     "execution_count": 515,
     "metadata": {},
     "output_type": "execute_result"
    }
   ],
   "source": [
    "# Number of observations in dataset\n",
    "len(df_rentals)"
   ]
  },
  {
   "cell_type": "code",
   "execution_count": 516,
   "metadata": {},
   "outputs": [
    {
     "data": {
      "text/plain": [
       "18618"
      ]
     },
     "execution_count": 516,
     "metadata": {},
     "output_type": "execute_result"
    }
   ],
   "source": [
    "# Drop observations with relative humidity value of 0\n",
    "df_rentals.drop(df_rentals[df_rentals.relative_humidity==0].index, inplace=True)\n",
    "\n",
    "# Check number of observations left after dropping\n",
    "len(df_rentals)"
   ]
  },
  {
   "cell_type": "markdown",
   "metadata": {},
   "source": [
    "#### 5.6 <b style=\"font-family:'Courier New'; font-size:18px\">windspeed</b> Column\n"
   ]
  },
  {
   "cell_type": "code",
   "execution_count": 29,
   "metadata": {},
   "outputs": [
    {
     "data": {
      "text/plain": [
       "(57.0, 0.0)"
      ]
     },
     "execution_count": 29,
     "metadata": {},
     "output_type": "execute_result"
    }
   ],
   "source": [
    "# Get the maximum and minimum values of the windspeed column\n",
    "max(df_rentals.windspeed), min(df_rentals.windspeed)"
   ]
  },
  {
   "cell_type": "markdown",
   "metadata": {},
   "source": [
    "- No units were given for the <b>windspeed</b> column.\n",
    "\n",
    "\n",
    "- Apparently, wind speed can be measured using a variety of [units](https://en.wikipedia.org/wiki/Wind_speed#Units) e.g. beaufort, knots, m/s, km/h, mph, depending on purpose, region or target audience.\n",
    "\n",
    "\n",
    "- [Wind speed of 0](https://www.wral.com/weather/blogpost/1116592/) is possible and said to be calm.\n",
    "\n",
    "\n",
    "- I'm unable to gauge if the maximum wind speed of 57 is valid. 57 m/s implies a hurricane, but 57 km/h is just a near gale.  \n",
    "\n",
    "\n",
    "- As such, I shall assume that values in the <b>windspeed</b> column are valid.\n"
   ]
  },
  {
   "cell_type": "markdown",
   "metadata": {},
   "source": [
    "#### 5.7 <b style=\"font-family:'Courier New'; font-size:18px\">psi</b> Column"
   ]
  },
  {
   "cell_type": "code",
   "execution_count": 33,
   "metadata": {
    "scrolled": true
   },
   "outputs": [
    {
     "data": {
      "text/plain": [
       "(50, 0)"
      ]
     },
     "execution_count": 33,
     "metadata": {},
     "output_type": "execute_result"
    }
   ],
   "source": [
    "# Get the maximum and minimum values of the psi column\n",
    "max(df_rentals.psi), min(df_rentals.psi)"
   ]
  },
  {
   "cell_type": "markdown",
   "metadata": {},
   "source": [
    "- The [Pollutant Standard Index (psi)](https://en.wikipedia.org/wiki/Pollutant_Standards_Index) is a measure of pollutants present in the air (0 to 400). \n",
    "\n",
    "\n",
    "- Values in the <b>psi</b> column are valid."
   ]
  },
  {
   "cell_type": "markdown",
   "metadata": {},
   "source": [
    "#### 5.8 <b style=\"font-family:'Courier New'; font-size:18px\">guest_scooter</b>, <b style=\"font-family:'Courier New'; font-size:18px\">registered_scooter</b> Columns"
   ]
  },
  {
   "cell_type": "code",
   "execution_count": 486,
   "metadata": {},
   "outputs": [
    {
     "data": {
      "text/plain": [
       "(1099, -2)"
      ]
     },
     "execution_count": 486,
     "metadata": {},
     "output_type": "execute_result"
    }
   ],
   "source": [
    "# Get the maximum and minimum values of the guest_scooter column\n",
    "max(df_rentals.guest_scooter), min(df_rentals.guest_scooter)"
   ]
  },
  {
   "cell_type": "code",
   "execution_count": 487,
   "metadata": {},
   "outputs": [
    {
     "data": {
      "text/plain": [
       "(6203, -2)"
      ]
     },
     "execution_count": 487,
     "metadata": {},
     "output_type": "execute_result"
    }
   ],
   "source": [
    "# Get the maximum and minimum values of the registered_scooter column\n",
    "max(df_rentals.registered_scooter), min(df_rentals.registered_scooter)"
   ]
  },
  {
   "cell_type": "code",
   "execution_count": 517,
   "metadata": {
    "scrolled": false
   },
   "outputs": [
    {
     "data": {
      "text/plain": [
       "658"
      ]
     },
     "execution_count": 517,
     "metadata": {},
     "output_type": "execute_result"
    }
   ],
   "source": [
    "# Number of observations with a negative value in either the guest_scooter or registered_scooter columns\n",
    "len(df_rentals[(df_rentals.guest_scooter<0) | (df_rentals.registered_scooter<0)])"
   ]
  },
  {
   "cell_type": "markdown",
   "metadata": {},
   "source": [
    "- Values in the <b>guest_scooter</b> and <b>registered_scooter</b> columns indicate the number of guest and registered users renting e-scooters in a particular hour, of a particular date.\n",
    "\n",
    "\n",
    "- As such, the values in the <b>guest_scooter</b> and <b>registered_scooter</b> columns should not be negative.\n",
    "\n",
    "\n",
    "- There are 658 observations with a negative value in either the <b>guest_scooter</b> or <b>registered_scooter</b> columns.\n",
    "\n",
    "\n",
    "- As there is no way of verifying these erroneous values, I shall set all negative values in the <b>guest_scooter</b> or <b>registered_scooter</b> columns to 0."
   ]
  },
  {
   "cell_type": "code",
   "execution_count": 518,
   "metadata": {
    "scrolled": true
   },
   "outputs": [
    {
     "data": {
      "text/plain": [
       "0"
      ]
     },
     "execution_count": 518,
     "metadata": {},
     "output_type": "execute_result"
    }
   ],
   "source": [
    "# Set all negative values in the guest_scooter column to 0\n",
    "df_rentals.loc[df_rentals.guest_scooter < 0, 'guest_scooter'] = 0\n",
    "\n",
    "# Set all negative values in the registered_scooter column to 0\n",
    "df_rentals.loc[df_rentals.registered_scooter < 0, 'registered_scooter'] = 0\n",
    "\n",
    "# Verify that there all negative values in the guest_scooter and registered_scooter columns have been set to 0\n",
    "len(df_rentals[(df_rentals.guest_scooter<0) | (df_rentals.registered_scooter<0)])"
   ]
  },
  {
   "cell_type": "markdown",
   "metadata": {},
   "source": [
    "#### 5.8 Duplicate Observations"
   ]
  },
  {
   "cell_type": "code",
   "execution_count": 519,
   "metadata": {},
   "outputs": [
    {
     "data": {
      "text/plain": [
       "18618"
      ]
     },
     "execution_count": 519,
     "metadata": {},
     "output_type": "execute_result"
    }
   ],
   "source": [
    "# Number of observations in dataset\n",
    "len(df_rentals)"
   ]
  },
  {
   "cell_type": "markdown",
   "metadata": {},
   "source": [
    "- As mentioned in Section 3. [Data Insights](#data_insights), there are more hourly observations than hours over 2 years from 2011 to 2012.\n",
    "\n",
    "\n",
    "- There are 18,618 hourly observations versus 17,520 (24 x 365 x 2) hours in the years 2011 and 2012.\n",
    "\n",
    "\n",
    "- Therefore, there are duplicate or erroneous observations in the dataset."
   ]
  },
  {
   "cell_type": "code",
   "execution_count": 520,
   "metadata": {},
   "outputs": [
    {
     "data": {
      "text/plain": [
       "1609"
      ]
     },
     "execution_count": 520,
     "metadata": {},
     "output_type": "execute_result"
    }
   ],
   "source": [
    "# Number of observations that are duplicates\n",
    "len(df_rentals[df_rentals.duplicated()])"
   ]
  },
  {
   "cell_type": "markdown",
   "metadata": {},
   "source": [
    "- There are 1,609 duplicate observations in the dataset.\n",
    "\n",
    " \n",
    "- I shall drop these duplicated observations."
   ]
  },
  {
   "cell_type": "code",
   "execution_count": 521,
   "metadata": {},
   "outputs": [
    {
     "data": {
      "text/plain": [
       "(17009, False)"
      ]
     },
     "execution_count": 521,
     "metadata": {},
     "output_type": "execute_result"
    }
   ],
   "source": [
    "# Drop duplicate observations\n",
    "df_rentals.drop_duplicates(inplace=True)\n",
    "\n",
    "# Verify that the duplicate observations have been removed\n",
    "len(df_rentals), any(df_rentals.duplicated())"
   ]
  },
  {
   "cell_type": "code",
   "execution_count": 522,
   "metadata": {},
   "outputs": [
    {
     "data": {
      "text/plain": [
       "17009"
      ]
     },
     "execution_count": 522,
     "metadata": {},
     "output_type": "execute_result"
    }
   ],
   "source": [
    "# Verify that all 17,009 observations have unique datetime values\n",
    "len(df_rentals.datetime.unique())"
   ]
  },
  {
   "cell_type": "markdown",
   "metadata": {},
   "source": [
    "### 6. Feature Engineering\n",
    "\n",
    "#### 6.1 Target/Dependent Variable\n",
    "\n",
    "- The target variable i.e. active e-scooter users, is numerical and discrete in nature.\n",
    "\n",
    "\n",
    "- As mentioned in Section 3. [Data Insights](#data_insights), the target variable (active e-scooter users) will be the sum of the guest and registered e-scooter users.\n",
    "\n",
    "\n",
    "- The <b>active_scooter</b> column should be created <b>AFTER</b> data cleaning as both the <b>guest_scooter</b> and <b>registered_scooter</b> columns contain errors.\n",
    "\n",
    "\n",
    "- Creating the <b>active_scooter</b> column before data cleaning would have introduced those pre-existing errors into the target variable column."
   ]
  },
  {
   "cell_type": "code",
   "execution_count": 525,
   "metadata": {},
   "outputs": [
    {
     "data": {
      "text/plain": [
       "Index(['date_str', 'hr_str', 'weather', 'temperature',\n",
       "       'feels_like_temperature', 'relative_humidity', 'windspeed', 'psi',\n",
       "       'guest_scooter', 'registered_scooter', 'date', 'datetime', 'hr',\n",
       "       'active_scooter'],\n",
       "      dtype='object')"
      ]
     },
     "execution_count": 525,
     "metadata": {},
     "output_type": "execute_result"
    }
   ],
   "source": [
    "# Create active_scooter column as target variable\n",
    "df_rentals['active_scooter'] = df_rentals.guest_scooter + df_rentals.registered_scooter\n",
    "\n",
    "# Verify target variable column has been created\n",
    "df_rentals.columns"
   ]
  },
  {
   "cell_type": "markdown",
   "metadata": {},
   "source": [
    "#### 6.2 One-Hot Encode the <b style=\"font-family:'Courier New'; font-size:18px\">weather</b> Column\n",
    "\n",
    "- As mentioned in Section 5.3 [<b>weather</b> column](#weather_column), the <b>weather</b> column contains categorical data with 4 unique values i.e. clear, cloudy, light snow/rain and heavy snow/rain.\n",
    "\n",
    "\n",
    "- To facilitate further exploration and modelling later, I will one-hot encode the <b>weather</b> column.\n",
    "\n",
    "\n",
    "- I did not choose to label encode as assigning a running number series to categories has the disadvantage that the numerical values can be misinterpreted by machine learning algorithms as having some sort of hierarchy/order in them."
   ]
  },
  {
   "cell_type": "code",
   "execution_count": 526,
   "metadata": {},
   "outputs": [
    {
     "data": {
      "text/html": [
       "<div>\n",
       "<style scoped>\n",
       "    .dataframe tbody tr th:only-of-type {\n",
       "        vertical-align: middle;\n",
       "    }\n",
       "\n",
       "    .dataframe tbody tr th {\n",
       "        vertical-align: top;\n",
       "    }\n",
       "\n",
       "    .dataframe thead th {\n",
       "        text-align: right;\n",
       "    }\n",
       "</style>\n",
       "<table border=\"1\" class=\"dataframe\">\n",
       "  <thead>\n",
       "    <tr style=\"text-align: right;\">\n",
       "      <th></th>\n",
       "      <th>date_str</th>\n",
       "      <th>hr_str</th>\n",
       "      <th>temperature</th>\n",
       "      <th>feels_like_temperature</th>\n",
       "      <th>relative_humidity</th>\n",
       "      <th>windspeed</th>\n",
       "      <th>psi</th>\n",
       "      <th>guest_scooter</th>\n",
       "      <th>registered_scooter</th>\n",
       "      <th>date</th>\n",
       "      <th>datetime</th>\n",
       "      <th>hr</th>\n",
       "      <th>active_scooter</th>\n",
       "      <th>weather_clear</th>\n",
       "      <th>weather_cloudy</th>\n",
       "      <th>weather_heavy snow/rain</th>\n",
       "      <th>weather_light snow/rain</th>\n",
       "    </tr>\n",
       "  </thead>\n",
       "  <tbody>\n",
       "    <tr>\n",
       "      <th>0</th>\n",
       "      <td>2012-07-02</td>\n",
       "      <td>23</td>\n",
       "      <td>109.0</td>\n",
       "      <td>140.0</td>\n",
       "      <td>51.0</td>\n",
       "      <td>7.0</td>\n",
       "      <td>13</td>\n",
       "      <td>37</td>\n",
       "      <td>631</td>\n",
       "      <td>2012-07-02</td>\n",
       "      <td>2012-07-02 23:00:00</td>\n",
       "      <td>23</td>\n",
       "      <td>668</td>\n",
       "      <td>1</td>\n",
       "      <td>0</td>\n",
       "      <td>0</td>\n",
       "      <td>0</td>\n",
       "    </tr>\n",
       "    <tr>\n",
       "      <th>1</th>\n",
       "      <td>2011-12-22</td>\n",
       "      <td>10</td>\n",
       "      <td>80.2</td>\n",
       "      <td>109.4</td>\n",
       "      <td>82.0</td>\n",
       "      <td>6.0</td>\n",
       "      <td>35</td>\n",
       "      <td>41</td>\n",
       "      <td>894</td>\n",
       "      <td>2011-12-22</td>\n",
       "      <td>2011-12-22 10:00:00</td>\n",
       "      <td>10</td>\n",
       "      <td>935</td>\n",
       "      <td>0</td>\n",
       "      <td>1</td>\n",
       "      <td>0</td>\n",
       "      <td>0</td>\n",
       "    </tr>\n",
       "    <tr>\n",
       "      <th>2</th>\n",
       "      <td>2011-02-25</td>\n",
       "      <td>11</td>\n",
       "      <td>90.4</td>\n",
       "      <td>120.2</td>\n",
       "      <td>77.0</td>\n",
       "      <td>30.0</td>\n",
       "      <td>30</td>\n",
       "      <td>27</td>\n",
       "      <td>350</td>\n",
       "      <td>2011-02-25</td>\n",
       "      <td>2011-02-25 11:00:00</td>\n",
       "      <td>11</td>\n",
       "      <td>377</td>\n",
       "      <td>1</td>\n",
       "      <td>0</td>\n",
       "      <td>0</td>\n",
       "      <td>0</td>\n",
       "    </tr>\n",
       "    <tr>\n",
       "      <th>3</th>\n",
       "      <td>2012-03-10</td>\n",
       "      <td>1</td>\n",
       "      <td>71.8</td>\n",
       "      <td>95.0</td>\n",
       "      <td>36.0</td>\n",
       "      <td>17.0</td>\n",
       "      <td>40</td>\n",
       "      <td>2</td>\n",
       "      <td>354</td>\n",
       "      <td>2012-03-10</td>\n",
       "      <td>2012-03-10 01:00:00</td>\n",
       "      <td>1</td>\n",
       "      <td>356</td>\n",
       "      <td>1</td>\n",
       "      <td>0</td>\n",
       "      <td>0</td>\n",
       "      <td>0</td>\n",
       "    </tr>\n",
       "    <tr>\n",
       "      <th>4</th>\n",
       "      <td>2011-06-19</td>\n",
       "      <td>5</td>\n",
       "      <td>102.2</td>\n",
       "      <td>132.8</td>\n",
       "      <td>78.0</td>\n",
       "      <td>0.0</td>\n",
       "      <td>1</td>\n",
       "      <td>23</td>\n",
       "      <td>82</td>\n",
       "      <td>2011-06-19</td>\n",
       "      <td>2011-06-19 05:00:00</td>\n",
       "      <td>5</td>\n",
       "      <td>105</td>\n",
       "      <td>0</td>\n",
       "      <td>1</td>\n",
       "      <td>0</td>\n",
       "      <td>0</td>\n",
       "    </tr>\n",
       "  </tbody>\n",
       "</table>\n",
       "</div>"
      ],
      "text/plain": [
       "     date_str hr_str  temperature  feels_like_temperature  relative_humidity  \\\n",
       "0  2012-07-02     23        109.0                   140.0               51.0   \n",
       "1  2011-12-22     10         80.2                   109.4               82.0   \n",
       "2  2011-02-25     11         90.4                   120.2               77.0   \n",
       "3  2012-03-10      1         71.8                    95.0               36.0   \n",
       "4  2011-06-19      5        102.2                   132.8               78.0   \n",
       "\n",
       "   windspeed  psi  guest_scooter  registered_scooter       date  \\\n",
       "0        7.0   13             37                 631 2012-07-02   \n",
       "1        6.0   35             41                 894 2011-12-22   \n",
       "2       30.0   30             27                 350 2011-02-25   \n",
       "3       17.0   40              2                 354 2012-03-10   \n",
       "4        0.0    1             23                  82 2011-06-19   \n",
       "\n",
       "             datetime  hr  active_scooter  weather_clear  weather_cloudy  \\\n",
       "0 2012-07-02 23:00:00  23             668              1               0   \n",
       "1 2011-12-22 10:00:00  10             935              0               1   \n",
       "2 2011-02-25 11:00:00  11             377              1               0   \n",
       "3 2012-03-10 01:00:00   1             356              1               0   \n",
       "4 2011-06-19 05:00:00   5             105              0               1   \n",
       "\n",
       "   weather_heavy snow/rain  weather_light snow/rain  \n",
       "0                        0                        0  \n",
       "1                        0                        0  \n",
       "2                        0                        0  \n",
       "3                        0                        0  \n",
       "4                        0                        0  "
      ]
     },
     "execution_count": 526,
     "metadata": {},
     "output_type": "execute_result"
    }
   ],
   "source": [
    "# Create binary values for weather category columns\n",
    "df_rentals = pd.get_dummies(df_rentals, columns=['weather'], prefix=['weather'])\n",
    "\n",
    "# Verify encoding columns were created\n",
    "df_rentals.columns"
   ]
  },
  {
   "cell_type": "markdown",
   "metadata": {},
   "source": [
    "#### 6.3 Day of the Week\n",
    "\n",
    "- The day of the week will probably have an impact on the number of rentals.  There could be more rentals on work days (Mon-Fri) as people commute to work, but stay at home on weekends.\n",
    "\n",
    "\n",
    "- I will create a new feature/variable based on the day of week.\n",
    "\n",
    "\n",
    "- Since the day of the week is categorical in nature, I'll also one-hot encode it."
   ]
  },
  {
   "cell_type": "code",
   "execution_count": 527,
   "metadata": {},
   "outputs": [
    {
     "data": {
      "text/plain": [
       "Index(['date_str', 'hr_str', 'temperature', 'feels_like_temperature',\n",
       "       'relative_humidity', 'windspeed', 'psi', 'guest_scooter',\n",
       "       'registered_scooter', 'date', 'datetime', 'hr', 'active_scooter',\n",
       "       'weather_clear', 'weather_cloudy', 'weather_heavy snow/rain',\n",
       "       'weather_light snow/rain', 'day_of_wk_Friday', 'day_of_wk_Monday',\n",
       "       'day_of_wk_Saturday', 'day_of_wk_Sunday', 'day_of_wk_Thursday',\n",
       "       'day_of_wk_Tuesday', 'day_of_wk_Wednesday'],\n",
       "      dtype='object')"
      ]
     },
     "execution_count": 527,
     "metadata": {},
     "output_type": "execute_result"
    }
   ],
   "source": [
    "df_rentals['day_of_wk'] = df_rentals.apply(lambda row: row.datetime.strftime('%A'), axis=1)\n",
    "\n",
    "# One-hot encode the day_of_wk column\n",
    "df_rentals = pd.get_dummies(df_rentals, columns=['day_of_wk'], prefix=['day_of_wk'])\n",
    "\n",
    "# Verify encoding columns were created\n",
    "df_rentals.columns"
   ]
  },
  {
   "cell_type": "markdown",
   "metadata": {},
   "source": [
    "#### 6.4 Hour of the Day\n",
    "\n",
    "- As mentioned in Section 5.2 [<b>hr</b> column](#hr_column), the hour of day is categorical in nature.\n",
    "\n",
    "\n",
    "- I'll one-hot encode the <b>hr</b> column."
   ]
  },
  {
   "cell_type": "code",
   "execution_count": 528,
   "metadata": {},
   "outputs": [
    {
     "data": {
      "text/plain": [
       "Index(['date_str', 'hr_str', 'temperature', 'feels_like_temperature',\n",
       "       'relative_humidity', 'windspeed', 'psi', 'guest_scooter',\n",
       "       'registered_scooter', 'date', 'datetime', 'active_scooter',\n",
       "       'weather_clear', 'weather_cloudy', 'weather_heavy snow/rain',\n",
       "       'weather_light snow/rain', 'day_of_wk_Friday', 'day_of_wk_Monday',\n",
       "       'day_of_wk_Saturday', 'day_of_wk_Sunday', 'day_of_wk_Thursday',\n",
       "       'day_of_wk_Tuesday', 'day_of_wk_Wednesday', 'hr_0', 'hr_1', 'hr_10',\n",
       "       'hr_11', 'hr_12', 'hr_13', 'hr_14', 'hr_15', 'hr_16', 'hr_17', 'hr_18',\n",
       "       'hr_19', 'hr_2', 'hr_20', 'hr_21', 'hr_22', 'hr_23', 'hr_3', 'hr_4',\n",
       "       'hr_5', 'hr_6', 'hr_7', 'hr_8', 'hr_9'],\n",
       "      dtype='object')"
      ]
     },
     "execution_count": 528,
     "metadata": {},
     "output_type": "execute_result"
    }
   ],
   "source": [
    "# One-hot encode the hr column\n",
    "df_rentals = pd.get_dummies(df_rentals, columns=['hr'], prefix=['hr'])\n",
    "\n",
    "# Verify encoding columns were created\n",
    "df_rentals.columns"
   ]
  },
  {
   "cell_type": "markdown",
   "metadata": {},
   "source": [
    "### 7. Data Visualization\n",
    "\n",
    "#### 7.1 Correlation"
   ]
  },
  {
   "cell_type": "code",
   "execution_count": 593,
   "metadata": {},
   "outputs": [],
   "source": [
    "# Column labels of numerical variables\n",
    "cols_numerical = ['active_scooter', 'guest_scooter', 'registered_scooter', 'temperature', 'feels_like_temperature', \n",
    "                  'relative_humidity', 'windspeed', 'psi']\n",
    "\n",
    "# Column labels of weather one-hot encoded variables\n",
    "cols_weather = ['weather_clear', 'weather_cloudy', 'weather_heavy snow/rain', 'weather_light snow/rain']\n",
    "\n",
    "# Column labels of day of week one-hot encoded variables\n",
    "cols_day_of_wk = ['day_of_wk_Friday', 'day_of_wk_Monday', 'day_of_wk_Saturday', 'day_of_wk_Sunday', \n",
    "                  'day_of_wk_Thursday', 'day_of_wk_Tuesday', 'day_of_wk_Wednesday']\n",
    "\n",
    "# Column labels of hour one-hot encoded variables\n",
    "cols_hr = ['hr_0', 'hr_1', 'hr_10', 'hr_11', 'hr_12', 'hr_13', 'hr_14', 'hr_15', 'hr_16', 'hr_17', 'hr_18', 'hr_19', \n",
    "           'hr_2', 'hr_20', 'hr_21', 'hr_22', 'hr_23', 'hr_3', 'hr_4', 'hr_5', 'hr_6', 'hr_7', 'hr_8', 'hr_9']\n",
    "\n",
    "# Construct list of column labels of numerical and one-hot encoded variables \n",
    "cols_all = []\n",
    "\n",
    "cols_all.extend(cols_numerical)\n",
    "cols_all.extend(cols_weather)\n",
    "cols_all.extend(cols_day_of_wk)\n",
    "cols_all.extend(cols_hr)"
   ]
  },
  {
   "cell_type": "code",
   "execution_count": 594,
   "metadata": {},
   "outputs": [],
   "source": [
    "# Create new dataset with relevant features for visualization purposes\n",
    "df_rentals_viz = df_rentals.loc[:, cols_all]\n",
    "\n",
    "# Generate the correlation matrix between features of the rental dataset\n",
    "corr_rentals = df_rentals_viz.corr()"
   ]
  },
  {
   "cell_type": "code",
   "execution_count": 600,
   "metadata": {},
   "outputs": [
    {
     "data": {
      "text/plain": [
       "<matplotlib.axes._subplots.AxesSubplot at 0x1845105ff88>"
      ]
     },
     "execution_count": 600,
     "metadata": {},
     "output_type": "execute_result"
    },
    {
     "data": {
      "image/png": "[encoded data removed]",
      "text/plain": [
       "<Figure size 1368x1224 with 2 Axes>"
      ]
     },
     "metadata": {
      "needs_background": "light"
     },
     "output_type": "display_data"
    }
   ],
   "source": [
    "plt.figure(figsize=(19, 17))\n",
    "\n",
    "# Display heat map of the correlation matrix\n",
    "sns.heatmap(corr_rentals, cmap='coolwarm', annot=False, vmax=1, vmin=-1) "
   ]
  },
  {
   "cell_type": "code",
   "execution_count": 596,
   "metadata": {
    "scrolled": true
   },
   "outputs": [
    {
     "data": {
      "text/plain": [
       "active_scooter            1.000000\n",
       "registered_scooter        0.993727\n",
       "guest_scooter             0.599002\n",
       "temperature               0.369943\n",
       "feels_like_temperature    0.366657\n",
       "hr_17                     0.323805\n",
       "hr_18                     0.282614\n",
       "hr_8                      0.228570\n",
       "hr_19                     0.147046\n",
       "hr_16                     0.129006\n",
       "Name: active_scooter, dtype: float64"
      ]
     },
     "execution_count": 596,
     "metadata": {},
     "output_type": "execute_result"
    }
   ],
   "source": [
    "# Get the correlation coefficients of the target variable (active_scooter) \n",
    "coefficients = corr_rentals['active_scooter'].sort_values(ascending=False)\n",
    "\n",
    "# Get 10 most positively correlated indepedent variable\n",
    "coefficients.iloc[:10]"
   ]
  },
  {
   "cell_type": "code",
   "execution_count": 597,
   "metadata": {
    "scrolled": true
   },
   "outputs": [
    {
     "data": {
      "text/plain": [
       "hr_23                     -0.115535\n",
       "weather_light snow/rain   -0.119854\n",
       "hr_6                      -0.121624\n",
       "hr_0                      -0.154816\n",
       "hr_1                      -0.178456\n",
       "hr_2                      -0.188390\n",
       "hr_5                      -0.191673\n",
       "hr_3                      -0.199488\n",
       "hr_4                      -0.204436\n",
       "relative_humidity         -0.304816\n",
       "Name: active_scooter, dtype: float64"
      ]
     },
     "execution_count": 597,
     "metadata": {},
     "output_type": "execute_result"
    }
   ],
   "source": [
    "# Get 10 most negatively correlated indepedent variable\n",
    "coefficients.iloc[-10:]"
   ]
  },
  {
   "cell_type": "markdown",
   "metadata": {},
   "source": [
    "- <b>registered_scooter</b> has strong positive correlation (> 0.99) to the target variable <b>active_scooter</b>.  \n",
    "\n",
    "\n",
    "- This is expected as <b>active_scooter</b> is the sum of <b>registered_scooter</b> and <b>guest_scooter</b>. \n",
    "\n",
    "\n",
    "- <b>guest_scooter</b> also has a positive correlation but not as strongly as <b>registered_scooter</b>. \n",
    "\n",
    "\n",
    "- This is because <b>registered_scooter</b> is the bigger part of the summation, on average it contributes up to 90% of the value of <b>active_scooter</b>.\n",
    "\n",
    "\n",
    "- Features most correlated to the target variable are <b>registered_scooter</b>, <b>guest_scooter</b>, <b>temperature</b>, <b>feels_like_temperature</b> and <b>relative_humidity.</b>\n",
    "\n",
    "\n",
    "- <b>temperature</b> and <b>feels_like_temperature</b> presents strong positive correlation (0.99).  This is probably because <b>feels_like_temperature</b>, also known as heat index (refer to Section 5.4 [temperature, feels_like_temperature Columns](#temperature_feels_like_temperature_columns), is derived from <b>temperature</b> and <b>relative_humidity</b>.\n",
    "\n",
    "\n",
    "- <b>weather_clear</b> and <b>weather_light snow/rain</b> are the more significant weather conditions.\n",
    "\n",
    "\n",
    "- <b>day_of_wk_Saturday</b> and <b>day_of_wk_Sunday</b> are the more significant days in the week.\n",
    "\n",
    "\n",
    "- It is intersting to note that <b>day_of_wk_Saturday</b> and <b>day_of_wk_Sunday</b> are positively correlated to <b>guest_scooter</b> but negatively correlated to <b>registered_scooter</b>.\n",
    "\n",
    "\n",
    "- We can infer that on weekends (Saturday, Sunday), the number of guest users will increase while the registered users will drop. \n",
    "\n",
    "\n",
    "- <b>hr_8</b>, <b>hr_16</b>, <b>hr_17</b>, <b>hr_18</b>, <b>hr_19</b> are the more positively correlated hourly intervals. These time slots relate to the commute to work in the morning (08:00am) and the commute after work in the evening (04:00pm - 07:00pm).\n",
    "\n",
    "\n",
    "- <b>hr_23</b>, <b>hr_0</b>, <b>hr_1</b>, <b>hr_2</b>, <b>hr_3</b>, <b>hr_4</b>, <b>hr_5</b>, <b>hr_6</b> are the more negatively correlated hourly intervals. These time slots relate to people resting at home (11:00pm - 06:00am) and thus do not commute or need e-scooters."
   ]
  },
  {
   "cell_type": "code",
   "execution_count": 315,
   "metadata": {
    "scrolled": true
   },
   "outputs": [
    {
     "data": {
      "text/plain": [
       "91.05239011532313"
      ]
     },
     "execution_count": 315,
     "metadata": {},
     "output_type": "execute_result"
    }
   ],
   "source": [
    "# Create a dataset to compare guest, registered and total active users \n",
    "df_users = df_rentals_viz.loc[:, ['active_scooter', 'guest_scooter', 'registered_scooter']]\n",
    "\n",
    "# Create a column that shows the percentage of registered users in the total active users\n",
    "df_users['registered_scooter_%'] = df_users['registered_scooter'] / df_users['active_scooter'] * 100\n",
    "\n",
    "# Get the mean (in %) of registered_scooter's contribution towards the active_scooter value\n",
    "df_users['registered_scooter_%'].mean()"
   ]
  },
  {
   "cell_type": "markdown",
   "metadata": {},
   "source": [
    "#### 7.2 Outliers"
   ]
  },
  {
   "cell_type": "code",
   "execution_count": 398,
   "metadata": {},
   "outputs": [
    {
     "data": {
      "image/png": "[encoded data removed]",
      "text/plain": [
       "<Figure size 864x432 with 7 Axes>"
      ]
     },
     "metadata": {},
     "output_type": "display_data"
    }
   ],
   "source": [
    "# Select columns with numerical data\n",
    "ol_cols = ['temperature', 'feels_like_temperature', 'relative_humidity', 'windspeed', 'psi', \n",
    "           'guest_scooter', 'registered_scooter']\n",
    "\n",
    "df_outliers = df_rentals_viz[ol_cols]\n",
    "\n",
    "cols_count = len(ol_cols)\n",
    "\n",
    "plt.figure(figsize=(12, 6))\n",
    "\n",
    "# Generate box plots for all numerical independent variables  \n",
    "for i in range(0, cols_count):\n",
    "    \n",
    "    plt.subplot(1, cols_count, i+1)\n",
    "    \n",
    "    sns.set_style('whitegrid')\n",
    "    \n",
    "    sns.boxplot(df_outliers[ol_cols[i]], color='green', orient='v')\n",
    "    \n",
    "    plt.tight_layout()"
   ]
  },
  {
   "cell_type": "markdown",
   "metadata": {},
   "source": [
    "- Independent variables <b>windspeed</b>, <b>guest_scooter</b> and <b>registered_scooter</b> contain large numbers of outliers.\n",
    "\n",
    "\n",
    "- Independent variables <b>temperature</b> and <b>feels_like_temperature</b> have similar distribution of values."
   ]
  },
  {
   "cell_type": "code",
   "execution_count": 402,
   "metadata": {
    "scrolled": true
   },
   "outputs": [
    {
     "data": {
      "text/html": [
       "<div>\n",
       "<style scoped>\n",
       "    .dataframe tbody tr th:only-of-type {\n",
       "        vertical-align: middle;\n",
       "    }\n",
       "\n",
       "    .dataframe tbody tr th {\n",
       "        vertical-align: top;\n",
       "    }\n",
       "\n",
       "    .dataframe thead th {\n",
       "        text-align: right;\n",
       "    }\n",
       "</style>\n",
       "<table border=\"1\" class=\"dataframe\">\n",
       "  <thead>\n",
       "    <tr style=\"text-align: right;\">\n",
       "      <th></th>\n",
       "      <th>3rd</th>\n",
       "      <th>1st</th>\n",
       "      <th>iqr</th>\n",
       "      <th>3iqr</th>\n",
       "      <th>max</th>\n",
       "    </tr>\n",
       "  </thead>\n",
       "  <tbody>\n",
       "    <tr>\n",
       "      <th>temperature</th>\n",
       "      <td>102.2</td>\n",
       "      <td>75.2</td>\n",
       "      <td>27.0</td>\n",
       "      <td>40.5</td>\n",
       "      <td>142.7</td>\n",
       "    </tr>\n",
       "    <tr>\n",
       "      <th>feels_like_temperature</th>\n",
       "      <td>134.6</td>\n",
       "      <td>100.4</td>\n",
       "      <td>34.2</td>\n",
       "      <td>51.3</td>\n",
       "      <td>185.9</td>\n",
       "    </tr>\n",
       "    <tr>\n",
       "      <th>relative_humidity</th>\n",
       "      <td>78.0</td>\n",
       "      <td>48.0</td>\n",
       "      <td>30.0</td>\n",
       "      <td>45.0</td>\n",
       "      <td>123.0</td>\n",
       "    </tr>\n",
       "    <tr>\n",
       "      <th>windspeed</th>\n",
       "      <td>17.0</td>\n",
       "      <td>7.0</td>\n",
       "      <td>10.0</td>\n",
       "      <td>15.0</td>\n",
       "      <td>32.0</td>\n",
       "    </tr>\n",
       "    <tr>\n",
       "      <th>psi</th>\n",
       "      <td>38.0</td>\n",
       "      <td>13.0</td>\n",
       "      <td>25.0</td>\n",
       "      <td>37.5</td>\n",
       "      <td>75.5</td>\n",
       "    </tr>\n",
       "    <tr>\n",
       "      <th>guest_scooter</th>\n",
       "      <td>145.0</td>\n",
       "      <td>11.0</td>\n",
       "      <td>134.0</td>\n",
       "      <td>201.0</td>\n",
       "      <td>346.0</td>\n",
       "    </tr>\n",
       "    <tr>\n",
       "      <th>registered_scooter</th>\n",
       "      <td>1540.0</td>\n",
       "      <td>240.0</td>\n",
       "      <td>1300.0</td>\n",
       "      <td>1950.0</td>\n",
       "      <td>3490.0</td>\n",
       "    </tr>\n",
       "  </tbody>\n",
       "</table>\n",
       "</div>"
      ],
      "text/plain": [
       "                           3rd    1st     iqr    3iqr     max\n",
       "temperature              102.2   75.2    27.0    40.5   142.7\n",
       "feels_like_temperature   134.6  100.4    34.2    51.3   185.9\n",
       "relative_humidity         78.0   48.0    30.0    45.0   123.0\n",
       "windspeed                 17.0    7.0    10.0    15.0    32.0\n",
       "psi                       38.0   13.0    25.0    37.5    75.5\n",
       "guest_scooter            145.0   11.0   134.0   201.0   346.0\n",
       "registered_scooter      1540.0  240.0  1300.0  1950.0  3490.0"
      ]
     },
     "execution_count": 402,
     "metadata": {},
     "output_type": "execute_result"
    }
   ],
   "source": [
    "# Generate quantile and maximum values of numerical features\n",
    "\n",
    "ser_quantile_1st = df_outliers.quantile(0.25)\n",
    "ser_quantile_3rd = df_outliers.quantile(0.75)\n",
    "ser_iqr = ser_quantile_3rd - ser_quantile_1st\n",
    "ser_3iqr = ser_iqr * 1.5\n",
    "ser_max = ser_quantile_3rd + ser_3iqr\n",
    "\n",
    "df_boxplots = pd.DataFrame({'3rd': ser_quantile_3rd, '1st': ser_quantile_1st, 'iqr': ser_iqr, \n",
    "                            '3iqr': ser_3iqr, 'max': ser_max})\n",
    "df_boxplots"
   ]
  },
  {
   "cell_type": "code",
   "execution_count": 410,
   "metadata": {},
   "outputs": [
    {
     "data": {
      "text/plain": [
       "(330, 1147, 671)"
      ]
     },
     "execution_count": 410,
     "metadata": {},
     "output_type": "execute_result"
    }
   ],
   "source": [
    "# Get number of outliers in the windspeed, guest_scooter, registered_scooter variables\n",
    "len(df_outliers[df_outliers.windspeed>32]), len(df_outliers[df_outliers.guest_scooter>346]), len(df_outliers[df_outliers.registered_scooter>3490])"
   ]
  },
  {
   "cell_type": "markdown",
   "metadata": {},
   "source": [
    "#### 7.3 Distribution Skewness"
   ]
  },
  {
   "cell_type": "code",
   "execution_count": 412,
   "metadata": {},
   "outputs": [
    {
     "data": {
      "image/png": "[encoded data removed]",
      "text/plain": [
       "<Figure size 1080x432 with 7 Axes>"
      ]
     },
     "metadata": {},
     "output_type": "display_data"
    }
   ],
   "source": [
    "plt.figure(figsize=(15, 6))\n",
    "\n",
    "# Generate distribution plots for all numerical independent variables  \n",
    "for i in range(0, cols_count):\n",
    "    \n",
    "    plt.subplot(1, cols_count, i+1)\n",
    "    \n",
    "    sns.distplot(df_outliers[ol_cols[i]], kde=True) "
   ]
  },
  {
   "cell_type": "markdown",
   "metadata": {},
   "source": [
    "- Independent variables <b>windspeed</b>, <b>guest_scooter</b> and <b>registered_scooter</b> are right/positively skewed.\n",
    "\n",
    "\n",
    "- Distribution plots of variables <b>temperature</b>, <b>feels_like_temperature</b> and <b>relative_humidity</b> are similar."
   ]
  },
  {
   "cell_type": "markdown",
   "metadata": {},
   "source": [
    "### 8. Feature Selection"
   ]
  },
  {
   "cell_type": "code",
   "execution_count": 298,
   "metadata": {},
   "outputs": [
    {
     "data": {
      "text/plain": [
       "['hr',\n",
       " 'temperature',\n",
       " 'feels_like_temperature',\n",
       " 'relative_humidity',\n",
       " 'windspeed',\n",
       " 'psi',\n",
       " 'guest_scooter',\n",
       " 'registered_scooter',\n",
       " 'day_of_wk_Friday',\n",
       " 'day_of_wk_Monday',\n",
       " 'day_of_wk_Saturday',\n",
       " 'day_of_wk_Sunday',\n",
       " 'day_of_wk_Thursday',\n",
       " 'day_of_wk_Tuesday',\n",
       " 'day_of_wk_Wednesday']"
      ]
     },
     "execution_count": 298,
     "metadata": {},
     "output_type": "execute_result"
    }
   ],
   "source": [
    "from sklearn.feature_selection import SelectKBest\n",
    "from sklearn.feature_selection import chi2\n",
    "\n",
    "X_cols = df_rentals_viz.columns.to_list()\n",
    "\n",
    "X_cols.remove('active_scooter')\n",
    "X_cols.remove('date_str')\n",
    "X_cols.remove('datetime')\n",
    "X_cols.remove('weather')\n",
    "\n",
    "X_cols"
   ]
  },
  {
   "cell_type": "code",
   "execution_count": 299,
   "metadata": {},
   "outputs": [],
   "source": [
    "X =  df_rentals_viz.loc[:, X_cols]\n",
    "y = df_rentals_viz.loc[:, 'active_scooter']"
   ]
  },
  {
   "cell_type": "code",
   "execution_count": 300,
   "metadata": {},
   "outputs": [],
   "source": [
    "bestfeatures = SelectKBest(score_func=chi2, k=10)\n",
    "fit = bestfeatures.fit(X,y)"
   ]
  },
  {
   "cell_type": "code",
   "execution_count": 301,
   "metadata": {
    "scrolled": false
   },
   "outputs": [
    {
     "data": {
      "text/html": [
       "<div>\n",
       "<style scoped>\n",
       "    .dataframe tbody tr th:only-of-type {\n",
       "        vertical-align: middle;\n",
       "    }\n",
       "\n",
       "    .dataframe tbody tr th {\n",
       "        vertical-align: top;\n",
       "    }\n",
       "\n",
       "    .dataframe thead th {\n",
       "        text-align: right;\n",
       "    }\n",
       "</style>\n",
       "<table border=\"1\" class=\"dataframe\">\n",
       "  <thead>\n",
       "    <tr style=\"text-align: right;\">\n",
       "      <th></th>\n",
       "      <th>0</th>\n",
       "      <th>0</th>\n",
       "    </tr>\n",
       "  </thead>\n",
       "  <tbody>\n",
       "    <tr>\n",
       "      <th>0</th>\n",
       "      <td>hr</td>\n",
       "      <td>3.392497e+04</td>\n",
       "    </tr>\n",
       "    <tr>\n",
       "      <th>1</th>\n",
       "      <td>temperature</td>\n",
       "      <td>1.811777e+04</td>\n",
       "    </tr>\n",
       "    <tr>\n",
       "      <th>2</th>\n",
       "      <td>feels_like_temperature</td>\n",
       "      <td>2.113250e+04</td>\n",
       "    </tr>\n",
       "    <tr>\n",
       "      <th>3</th>\n",
       "      <td>relative_humidity</td>\n",
       "      <td>3.282415e+04</td>\n",
       "    </tr>\n",
       "    <tr>\n",
       "      <th>4</th>\n",
       "      <td>windspeed</td>\n",
       "      <td>2.072732e+04</td>\n",
       "    </tr>\n",
       "    <tr>\n",
       "      <th>5</th>\n",
       "      <td>psi</td>\n",
       "      <td>3.125241e+04</td>\n",
       "    </tr>\n",
       "    <tr>\n",
       "      <th>6</th>\n",
       "      <td>guest_scooter</td>\n",
       "      <td>2.437521e+06</td>\n",
       "    </tr>\n",
       "    <tr>\n",
       "      <th>7</th>\n",
       "      <td>registered_scooter</td>\n",
       "      <td>1.759651e+07</td>\n",
       "    </tr>\n",
       "    <tr>\n",
       "      <th>8</th>\n",
       "      <td>day_of_wk_Friday</td>\n",
       "      <td>3.474049e+03</td>\n",
       "    </tr>\n",
       "    <tr>\n",
       "      <th>9</th>\n",
       "      <td>day_of_wk_Monday</td>\n",
       "      <td>3.123971e+03</td>\n",
       "    </tr>\n",
       "    <tr>\n",
       "      <th>10</th>\n",
       "      <td>day_of_wk_Saturday</td>\n",
       "      <td>3.158670e+03</td>\n",
       "    </tr>\n",
       "    <tr>\n",
       "      <th>11</th>\n",
       "      <td>day_of_wk_Sunday</td>\n",
       "      <td>3.144961e+03</td>\n",
       "    </tr>\n",
       "    <tr>\n",
       "      <th>12</th>\n",
       "      <td>day_of_wk_Thursday</td>\n",
       "      <td>3.520191e+03</td>\n",
       "    </tr>\n",
       "    <tr>\n",
       "      <th>13</th>\n",
       "      <td>day_of_wk_Tuesday</td>\n",
       "      <td>3.413922e+03</td>\n",
       "    </tr>\n",
       "    <tr>\n",
       "      <th>14</th>\n",
       "      <td>day_of_wk_Wednesday</td>\n",
       "      <td>3.440889e+03</td>\n",
       "    </tr>\n",
       "  </tbody>\n",
       "</table>\n",
       "</div>"
      ],
      "text/plain": [
       "                         0             0\n",
       "0                       hr  3.392497e+04\n",
       "1              temperature  1.811777e+04\n",
       "2   feels_like_temperature  2.113250e+04\n",
       "3        relative_humidity  3.282415e+04\n",
       "4                windspeed  2.072732e+04\n",
       "5                      psi  3.125241e+04\n",
       "6            guest_scooter  2.437521e+06\n",
       "7       registered_scooter  1.759651e+07\n",
       "8         day_of_wk_Friday  3.474049e+03\n",
       "9         day_of_wk_Monday  3.123971e+03\n",
       "10      day_of_wk_Saturday  3.158670e+03\n",
       "11        day_of_wk_Sunday  3.144961e+03\n",
       "12      day_of_wk_Thursday  3.520191e+03\n",
       "13       day_of_wk_Tuesday  3.413922e+03\n",
       "14     day_of_wk_Wednesday  3.440889e+03"
      ]
     },
     "execution_count": 301,
     "metadata": {},
     "output_type": "execute_result"
    }
   ],
   "source": [
    "dfscores = pd.DataFrame(fit.scores_)\n",
    "dfcolumns = pd.DataFrame(X.columns)\n",
    "\n",
    "featureScores = pd.concat([dfcolumns,dfscores],axis=1)"
   ]
  },
  {
   "cell_type": "code",
   "execution_count": 302,
   "metadata": {},
   "outputs": [
    {
     "name": "stdout",
     "output_type": "stream",
     "text": [
      "                     Specs         Score\n",
      "7       registered_scooter  1.759651e+07\n",
      "6            guest_scooter  2.437521e+06\n",
      "0                       hr  3.392497e+04\n",
      "3        relative_humidity  3.282415e+04\n",
      "5                      psi  3.125241e+04\n",
      "2   feels_like_temperature  2.113250e+04\n",
      "4                windspeed  2.072732e+04\n",
      "1              temperature  1.811777e+04\n",
      "12      day_of_wk_Thursday  3.520191e+03\n",
      "8         day_of_wk_Friday  3.474049e+03\n"
     ]
    }
   ],
   "source": [
    "featureScores.columns = ['Specs','Score']\n",
    "\n",
    "print(featureScores.nlargest(10,'Score'))"
   ]
  }
 ],
 "metadata": {
  "kernelspec": {
   "display_name": "Python 3",
   "language": "python",
   "name": "python3"
  },
  "language_info": {
   "codemirror_mode": {
    "name": "ipython",
    "version": 3
   },
   "file_extension": ".py",
   "mimetype": "text/x-python",
   "name": "python",
   "nbconvert_exporter": "python",
   "pygments_lexer": "ipython3",
   "version": "3.7.4"
  }
 },
 "nbformat": 4,
 "nbformat_minor": 2
}
