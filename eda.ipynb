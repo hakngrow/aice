{
 "cells": [
  {
   "cell_type": "markdown",
   "metadata": {},
   "source": [
    "### 1. Load Libraries"
   ]
  },
  {
   "cell_type": "code",
   "execution_count": 884,
   "metadata": {
    "scrolled": true
   },
   "outputs": [],
   "source": [
    "import numpy as np\n",
    "import pandas as pd\n",
    "\n",
    "import matplotlib.pyplot as plt\n",
    "import seaborn as sns\n",
    "\n",
    "import data\n",
    "\n",
    "%matplotlib inline"
   ]
  },
  {
   "cell_type": "markdown",
   "metadata": {},
   "source": [
    "### 2. Load Dataset"
   ]
  },
  {
   "cell_type": "code",
   "execution_count": 974,
   "metadata": {
    "scrolled": true
   },
   "outputs": [
    {
     "data": {
      "text/html": [
       "<div>\n",
       "<style scoped>\n",
       "    .dataframe tbody tr th:only-of-type {\n",
       "        vertical-align: middle;\n",
       "    }\n",
       "\n",
       "    .dataframe tbody tr th {\n",
       "        vertical-align: top;\n",
       "    }\n",
       "\n",
       "    .dataframe thead th {\n",
       "        text-align: right;\n",
       "    }\n",
       "</style>\n",
       "<table border=\"1\" class=\"dataframe\">\n",
       "  <thead>\n",
       "    <tr style=\"text-align: right;\">\n",
       "      <th></th>\n",
       "      <th>date</th>\n",
       "      <th>hr</th>\n",
       "      <th>weather</th>\n",
       "      <th>temperature</th>\n",
       "      <th>feels_like_temperature</th>\n",
       "      <th>relative_humidity</th>\n",
       "      <th>windspeed</th>\n",
       "      <th>psi</th>\n",
       "      <th>guest_scooter</th>\n",
       "      <th>registered_scooter</th>\n",
       "    </tr>\n",
       "  </thead>\n",
       "  <tbody>\n",
       "    <tr>\n",
       "      <th>0</th>\n",
       "      <td>2012-07-02</td>\n",
       "      <td>23</td>\n",
       "      <td>clear</td>\n",
       "      <td>109.0</td>\n",
       "      <td>140.0</td>\n",
       "      <td>51.0</td>\n",
       "      <td>7.0</td>\n",
       "      <td>13</td>\n",
       "      <td>37</td>\n",
       "      <td>631</td>\n",
       "    </tr>\n",
       "    <tr>\n",
       "      <th>1</th>\n",
       "      <td>2011-12-22</td>\n",
       "      <td>10</td>\n",
       "      <td>cloudy</td>\n",
       "      <td>80.2</td>\n",
       "      <td>109.4</td>\n",
       "      <td>82.0</td>\n",
       "      <td>6.0</td>\n",
       "      <td>35</td>\n",
       "      <td>41</td>\n",
       "      <td>894</td>\n",
       "    </tr>\n",
       "    <tr>\n",
       "      <th>2</th>\n",
       "      <td>2011-02-25</td>\n",
       "      <td>11</td>\n",
       "      <td>clear</td>\n",
       "      <td>90.4</td>\n",
       "      <td>120.2</td>\n",
       "      <td>77.0</td>\n",
       "      <td>30.0</td>\n",
       "      <td>30</td>\n",
       "      <td>27</td>\n",
       "      <td>350</td>\n",
       "    </tr>\n",
       "    <tr>\n",
       "      <th>3</th>\n",
       "      <td>2012-03-10</td>\n",
       "      <td>1</td>\n",
       "      <td>clear</td>\n",
       "      <td>71.8</td>\n",
       "      <td>95.0</td>\n",
       "      <td>36.0</td>\n",
       "      <td>17.0</td>\n",
       "      <td>40</td>\n",
       "      <td>2</td>\n",
       "      <td>354</td>\n",
       "    </tr>\n",
       "    <tr>\n",
       "      <th>4</th>\n",
       "      <td>2011-06-19</td>\n",
       "      <td>5</td>\n",
       "      <td>cloudy</td>\n",
       "      <td>102.2</td>\n",
       "      <td>132.8</td>\n",
       "      <td>78.0</td>\n",
       "      <td>0.0</td>\n",
       "      <td>1</td>\n",
       "      <td>23</td>\n",
       "      <td>82</td>\n",
       "    </tr>\n",
       "  </tbody>\n",
       "</table>\n",
       "</div>"
      ],
      "text/plain": [
       "         date  hr weather  temperature  feels_like_temperature  \\\n",
       "0  2012-07-02  23   clear        109.0                   140.0   \n",
       "1  2011-12-22  10  cloudy         80.2                   109.4   \n",
       "2  2011-02-25  11   clear         90.4                   120.2   \n",
       "3  2012-03-10   1   clear         71.8                    95.0   \n",
       "4  2011-06-19   5  cloudy        102.2                   132.8   \n",
       "\n",
       "   relative_humidity  windspeed  psi  guest_scooter  registered_scooter  \n",
       "0               51.0        7.0   13             37                 631  \n",
       "1               82.0        6.0   35             41                 894  \n",
       "2               77.0       30.0   30             27                 350  \n",
       "3               36.0       17.0   40              2                 354  \n",
       "4               78.0        0.0    1             23                  82  "
      ]
     },
     "execution_count": 974,
     "metadata": {},
     "output_type": "execute_result"
    }
   ],
   "source": [
    "# Extract and retrieve rentals data from Microsoft SQL server\n",
    "# Refer to documentation within data module for technical and configuration details\n",
    "df_rentals = data.get_rentals()\n",
    "\n",
    "df_rentals.head()"
   ]
  },
  {
   "cell_type": "markdown",
   "metadata": {},
   "source": [
    "### 3. Data Insights <a id='data_insights'></a>"
   ]
  },
  {
   "cell_type": "code",
   "execution_count": 604,
   "metadata": {},
   "outputs": [
    {
     "data": {
      "text/plain": [
       "(18643, 10)"
      ]
     },
     "execution_count": 604,
     "metadata": {},
     "output_type": "execute_result"
    }
   ],
   "source": [
    "df_rentals.shape"
   ]
  },
  {
   "cell_type": "markdown",
   "metadata": {},
   "source": [
    "- Dataset contains 18,643 observations with 10 features.\n",
    "\n",
    "\n",
    "- There are 24 hours a day, 365 days a year. So over 2 years, there should be a maximum 17,520 (24 x 365 x 2) observations.\n",
    "\n",
    "\n",
    "- Given that there are more hourly observations than hours over a 2 year period, some of the observations may be duplicates or erroneous. \n",
    "\n",
    "\n",
    "- The problem statement is to predict the total number of active e-scooter users given the above dataset.\n",
    "\n",
    "\n",
    "- Each observation records the number of guest and registered users using rental e-scooters in a particular hour of a day.\n",
    "\n",
    "\n",
    "- I shall assume that the total number of active e-scooter users in a particular hour of a day is the sum of the guest and registered users <i><b>i.e. active users = guest users + registered users.</b></i>"
   ]
  },
  {
   "cell_type": "code",
   "execution_count": 605,
   "metadata": {
    "scrolled": true
   },
   "outputs": [
    {
     "data": {
      "text/plain": [
       "array(['date', 'hr', 'weather', 'temperature', 'feels_like_temperature',\n",
       "       'relative_humidity', 'windspeed', 'psi', 'guest_scooter',\n",
       "       'registered_scooter'], dtype=object)"
      ]
     },
     "execution_count": 605,
     "metadata": {},
     "output_type": "execute_result"
    }
   ],
   "source": [
    "df_rentals.columns.values"
   ]
  },
  {
   "cell_type": "markdown",
   "metadata": {},
   "source": [
    "- Column labels of the rentals dataset"
   ]
  },
  {
   "cell_type": "code",
   "execution_count": 141,
   "metadata": {
    "scrolled": true
   },
   "outputs": [
    {
     "name": "stdout",
     "output_type": "stream",
     "text": [
      "<class 'pandas.core.frame.DataFrame'>\n",
      "RangeIndex: 18643 entries, 0 to 18642\n",
      "Data columns (total 10 columns):\n",
      "date                      18643 non-null object\n",
      "hr                        18643 non-null int64\n",
      "weather                   18643 non-null object\n",
      "temperature               18643 non-null float64\n",
      "feels_like_temperature    18643 non-null float64\n",
      "relative_humidity         18643 non-null float64\n",
      "windspeed                 18643 non-null float64\n",
      "psi                       18643 non-null int64\n",
      "guest_scooter             18643 non-null int64\n",
      "registered_scooter        18643 non-null int64\n",
      "dtypes: float64(4), int64(4), object(2)\n",
      "memory usage: 1.4+ MB\n"
     ]
    }
   ],
   "source": [
    "df_rentals.info()"
   ]
  },
  {
   "cell_type": "markdown",
   "metadata": {},
   "source": [
    "- No column with null/missing value."
   ]
  },
  {
   "cell_type": "markdown",
   "metadata": {},
   "source": [
    "### 4. Summary Statistics <a id='summary_statistics'></a>"
   ]
  },
  {
   "cell_type": "code",
   "execution_count": 477,
   "metadata": {},
   "outputs": [
    {
     "data": {
      "text/html": [
       "<div>\n",
       "<style scoped>\n",
       "    .dataframe tbody tr th:only-of-type {\n",
       "        vertical-align: middle;\n",
       "    }\n",
       "\n",
       "    .dataframe tbody tr th {\n",
       "        vertical-align: top;\n",
       "    }\n",
       "\n",
       "    .dataframe thead th {\n",
       "        text-align: right;\n",
       "    }\n",
       "</style>\n",
       "<table border=\"1\" class=\"dataframe\">\n",
       "  <thead>\n",
       "    <tr style=\"text-align: right;\">\n",
       "      <th></th>\n",
       "      <th>hr</th>\n",
       "      <th>temperature</th>\n",
       "      <th>feels_like_temperature</th>\n",
       "      <th>relative_humidity</th>\n",
       "      <th>windspeed</th>\n",
       "      <th>psi</th>\n",
       "      <th>guest_scooter</th>\n",
       "      <th>registered_scooter</th>\n",
       "    </tr>\n",
       "  </thead>\n",
       "  <tbody>\n",
       "    <tr>\n",
       "      <th>count</th>\n",
       "      <td>18643.000000</td>\n",
       "      <td>18643.000000</td>\n",
       "      <td>18643.000000</td>\n",
       "      <td>18643.000000</td>\n",
       "      <td>18643.000000</td>\n",
       "      <td>18643.000000</td>\n",
       "      <td>18643.000000</td>\n",
       "      <td>18643.000000</td>\n",
       "    </tr>\n",
       "    <tr>\n",
       "      <th>mean</th>\n",
       "      <td>11.537145</td>\n",
       "      <td>88.433037</td>\n",
       "      <td>117.313608</td>\n",
       "      <td>62.733251</td>\n",
       "      <td>12.741082</td>\n",
       "      <td>25.142198</td>\n",
       "      <td>106.388940</td>\n",
       "      <td>1074.471383</td>\n",
       "    </tr>\n",
       "    <tr>\n",
       "      <th>std</th>\n",
       "      <td>6.924281</td>\n",
       "      <td>16.252200</td>\n",
       "      <td>20.364081</td>\n",
       "      <td>19.315897</td>\n",
       "      <td>8.217008</td>\n",
       "      <td>14.442978</td>\n",
       "      <td>147.151664</td>\n",
       "      <td>1055.916934</td>\n",
       "    </tr>\n",
       "    <tr>\n",
       "      <th>min</th>\n",
       "      <td>0.000000</td>\n",
       "      <td>48.100000</td>\n",
       "      <td>60.800000</td>\n",
       "      <td>0.000000</td>\n",
       "      <td>0.000000</td>\n",
       "      <td>0.000000</td>\n",
       "      <td>-2.000000</td>\n",
       "      <td>-2.000000</td>\n",
       "    </tr>\n",
       "    <tr>\n",
       "      <th>25%</th>\n",
       "      <td>6.000000</td>\n",
       "      <td>75.200000</td>\n",
       "      <td>100.400000</td>\n",
       "      <td>48.000000</td>\n",
       "      <td>7.000000</td>\n",
       "      <td>13.000000</td>\n",
       "      <td>12.000000</td>\n",
       "      <td>240.000000</td>\n",
       "    </tr>\n",
       "    <tr>\n",
       "      <th>50%</th>\n",
       "      <td>12.000000</td>\n",
       "      <td>88.700000</td>\n",
       "      <td>118.400000</td>\n",
       "      <td>63.000000</td>\n",
       "      <td>13.000000</td>\n",
       "      <td>25.000000</td>\n",
       "      <td>50.000000</td>\n",
       "      <td>807.000000</td>\n",
       "    </tr>\n",
       "    <tr>\n",
       "      <th>75%</th>\n",
       "      <td>18.000000</td>\n",
       "      <td>102.200000</td>\n",
       "      <td>134.600000</td>\n",
       "      <td>78.000000</td>\n",
       "      <td>17.000000</td>\n",
       "      <td>38.000000</td>\n",
       "      <td>144.000000</td>\n",
       "      <td>1535.500000</td>\n",
       "    </tr>\n",
       "    <tr>\n",
       "      <th>max</th>\n",
       "      <td>23.000000</td>\n",
       "      <td>131.000000</td>\n",
       "      <td>179.600000</td>\n",
       "      <td>100.000000</td>\n",
       "      <td>57.000000</td>\n",
       "      <td>50.000000</td>\n",
       "      <td>1099.000000</td>\n",
       "      <td>6203.000000</td>\n",
       "    </tr>\n",
       "  </tbody>\n",
       "</table>\n",
       "</div>"
      ],
      "text/plain": [
       "                 hr   temperature  feels_like_temperature  relative_humidity  \\\n",
       "count  18643.000000  18643.000000            18643.000000       18643.000000   \n",
       "mean      11.537145     88.433037              117.313608          62.733251   \n",
       "std        6.924281     16.252200               20.364081          19.315897   \n",
       "min        0.000000     48.100000               60.800000           0.000000   \n",
       "25%        6.000000     75.200000              100.400000          48.000000   \n",
       "50%       12.000000     88.700000              118.400000          63.000000   \n",
       "75%       18.000000    102.200000              134.600000          78.000000   \n",
       "max       23.000000    131.000000              179.600000         100.000000   \n",
       "\n",
       "          windspeed           psi  guest_scooter  registered_scooter  \n",
       "count  18643.000000  18643.000000   18643.000000        18643.000000  \n",
       "mean      12.741082     25.142198     106.388940         1074.471383  \n",
       "std        8.217008     14.442978     147.151664         1055.916934  \n",
       "min        0.000000      0.000000      -2.000000           -2.000000  \n",
       "25%        7.000000     13.000000      12.000000          240.000000  \n",
       "50%       13.000000     25.000000      50.000000          807.000000  \n",
       "75%       17.000000     38.000000     144.000000         1535.500000  \n",
       "max       57.000000     50.000000    1099.000000         6203.000000  "
      ]
     },
     "execution_count": 477,
     "metadata": {},
     "output_type": "execute_result"
    }
   ],
   "source": [
    "df_rentals.describe()"
   ]
  },
  {
   "cell_type": "markdown",
   "metadata": {},
   "source": [
    "- Large differnece in the 75th %tile and max values of columns <b>windspeed</b>, <b>guest_scooter</b>, <b>registered_scooter</b>\n",
    "\n",
    "\n",
    "- This observation suggests that there are extreme values or outliers in these columns. \n",
    "\n",
    "\n",
    "- There is sizable difference in the range of values across the independent variables. e.g. values for <b>psi</b> are always below 100, whereas values for <b>registered_scooter</b> could be in the thousands.\n",
    "\n",
    "\n",
    "- Some form of scaling needs to be done at the pre-processing stage."
   ]
  },
  {
   "cell_type": "markdown",
   "metadata": {},
   "source": [
    "### 5. Data Cleaning\n",
    "\n",
    "#### 5.1 <b style=\"font-family:'Courier New'; font-size:18px\">date</b> Column"
   ]
  },
  {
   "cell_type": "code",
   "execution_count": 142,
   "metadata": {
    "scrolled": false
   },
   "outputs": [
    {
     "data": {
      "text/plain": [
       "dtype('O')"
      ]
     },
     "execution_count": 142,
     "metadata": {},
     "output_type": "execute_result"
    }
   ],
   "source": [
    "# Check data type of the date column\n",
    "df_rentals.dtypes['date']"
   ]
  },
  {
   "cell_type": "markdown",
   "metadata": {},
   "source": [
    "- Convert the <b style=\"font-family:'Courier New'; font-size:15px\">date</b> column from <b style=\"font-family:'Courier New'; font-size:15px\">string</b> to <b style=\"font-family:'Courier New'; font-size:15px\">date</b> data type.\n",
    "\n",
    "\n",
    "- Combine the <b style=\"font-family:'Courier New'; font-size:15px\">date</b> and <b style=\"font-family:'Courier New'; font-size:15px\">hr</b> columns to form a <b style=\"font-family:'Courier New'; font-size:15px\">datetime</b> column.\n",
    "\n",
    "\n",
    "- This is to facilitate the use of datetime/timeseries operations when doing exploration and feature engineering later."
   ]
  },
  {
   "cell_type": "code",
   "execution_count": 975,
   "metadata": {
    "scrolled": false
   },
   "outputs": [
    {
     "data": {
      "text/plain": [
       "dtype('<M8[ns]')"
      ]
     },
     "execution_count": 975,
     "metadata": {},
     "output_type": "execute_result"
    }
   ],
   "source": [
    "# Rename date column to date_str to indicate string data type\n",
    "df_rentals.rename(columns={'date': 'date_str'}, inplace=True)\n",
    "\n",
    "# Convert date column from string to datetime data type\n",
    "df_rentals['date'] = pd.to_datetime(df_rentals['date_str'])\n",
    "\n",
    "# Verify date column data type\n",
    "df_rentals.dtypes['date']"
   ]
  },
  {
   "cell_type": "code",
   "execution_count": 976,
   "metadata": {},
   "outputs": [
    {
     "data": {
      "text/plain": [
       "dtype('<M8[ns]')"
      ]
     },
     "execution_count": 976,
     "metadata": {},
     "output_type": "execute_result"
    }
   ],
   "source": [
    "# Create datetime column by concatenating the date and hr columns\n",
    "df_rentals['datetime'] = df_rentals.apply(lambda row: row.date_str + ' ' + str(row.hr), axis=1) + ':00'\n",
    "\n",
    "# Convert datetime column from string to datetime data type\n",
    "df_rentals.datetime = pd.to_datetime(df_rentals.datetime)\n",
    "\n",
    "# Verify datetime column data type\n",
    "df_rentals.dtypes['datetime']"
   ]
  },
  {
   "cell_type": "markdown",
   "metadata": {},
   "source": [
    "#### 5.2 <b style=\"font-family:'Courier New'; font-size:18px\">hr</b> Column <a id='hr_column'></a>"
   ]
  },
  {
   "cell_type": "code",
   "execution_count": 423,
   "metadata": {},
   "outputs": [
    {
     "data": {
      "text/plain": [
       "dtype('int64')"
      ]
     },
     "execution_count": 423,
     "metadata": {},
     "output_type": "execute_result"
    }
   ],
   "source": [
    "# Check data type of the hr column\n",
    "df_rentals.dtypes['hr']"
   ]
  },
  {
   "cell_type": "markdown",
   "metadata": {},
   "source": [
    "- The hour of the day when the rentals are made should be categorical in nature.\n",
    "\n",
    "\n",
    "- Convert the <b>hr</b> column from integer to string data type."
   ]
  },
  {
   "cell_type": "code",
   "execution_count": 977,
   "metadata": {},
   "outputs": [
    {
     "data": {
      "text/plain": [
       "dtype('O')"
      ]
     },
     "execution_count": 977,
     "metadata": {},
     "output_type": "execute_result"
    }
   ],
   "source": [
    "# Rename hr column to hr_str to indicate string data type\n",
    "df_rentals.rename(columns={'hr': 'hr_str'}, inplace=True)\n",
    "\n",
    "# Convert hr column from int to string data type\n",
    "df_rentals.hr_str = df_rentals.hr_str.apply(str)\n",
    "\n",
    "# Verify hr_str column data type\n",
    "df_rentals.dtypes['hr_str']"
   ]
  },
  {
   "cell_type": "code",
   "execution_count": 978,
   "metadata": {
    "scrolled": true
   },
   "outputs": [
    {
     "data": {
      "text/plain": [
       "array(['23', '10', '11', '1', '5', '17', '22', '7', '18', '0', '9', '15',\n",
       "       '12', '19', '4', '8', '2', '20', '6', '16', '21', '3', '14', '13'],\n",
       "      dtype=object)"
      ]
     },
     "execution_count": 978,
     "metadata": {},
     "output_type": "execute_result"
    }
   ],
   "source": [
    "# Check the number of unique hr values\n",
    "unique_hrs = df_rentals.hr_str.unique()\n",
    "\n",
    "unique_hrs"
   ]
  },
  {
   "cell_type": "code",
   "execution_count": 454,
   "metadata": {},
   "outputs": [
    {
     "data": {
      "text/plain": [
       "24"
      ]
     },
     "execution_count": 454,
     "metadata": {},
     "output_type": "execute_result"
    }
   ],
   "source": [
    "len(unique_hrs)"
   ]
  },
  {
   "cell_type": "markdown",
   "metadata": {},
   "source": [
    "- All 24 hours of the day are represented in the rentals dataset."
   ]
  },
  {
   "cell_type": "code",
   "execution_count": 979,
   "metadata": {
    "scrolled": true
   },
   "outputs": [
    {
     "data": {
      "text/plain": [
       "CategoricalDtype(categories=['0', '1', '10', '11', '12', '13', '14', '15', '16', '17',\n",
       "                  '18', '19', '2', '20', '21', '22', '23', '3', '4', '5', '6',\n",
       "                  '7', '8', '9'],\n",
       "                 ordered=False)"
      ]
     },
     "execution_count": 979,
     "metadata": {},
     "output_type": "execute_result"
    }
   ],
   "source": [
    "# Convert the hr column from string to categorical data type\n",
    "df_rentals['hr'] = df_rentals.hr_str.astype('category')\n",
    "\n",
    "df_rentals.dtypes['hr']"
   ]
  },
  {
   "cell_type": "markdown",
   "metadata": {},
   "source": [
    "#### 5.3 <b style=\"font-family:'Courier New'; font-size:18px\">weather</b> Column <a id='weather_column'></a>"
   ]
  },
  {
   "cell_type": "code",
   "execution_count": 610,
   "metadata": {},
   "outputs": [
    {
     "data": {
      "text/plain": [
       "array(['clear', 'cloudy', 'light snow/rain', 'loudy', 'CLOUDY', 'CLEAR',\n",
       "       'lear', 'LIGHT SNOW/RAIN', 'clar', 'heavy snow/rain', 'cludy',\n",
       "       'liht snow/rain'], dtype=object)"
      ]
     },
     "execution_count": 610,
     "metadata": {},
     "output_type": "execute_result"
    }
   ],
   "source": [
    "df_rentals.weather.unique()"
   ]
  },
  {
   "cell_type": "markdown",
   "metadata": {},
   "source": [
    "- The <b>weather</b> column contains categorical data.\n",
    "- The <b>weather</b> data is 'dirty', clean up is neccessary. \n",
    "- Mixed cases i.e. clear and CLEAR..\n",
    "- Incorrect spelling e.g. lear, clar\n",
    "\n",
    "\n",
    "- Correct values 'lear' and 'clar' to be 'clear'.\n",
    "- Correct values 'cludy' and 'loudy' to be 'cloudy'.\n",
    "- Correct value 'liht snow/rain' to be 'light snow/rain'."
   ]
  },
  {
   "cell_type": "code",
   "execution_count": 980,
   "metadata": {},
   "outputs": [
    {
     "data": {
      "text/plain": [
       "array(['clear', 'cloudy', 'light snow/rain', 'heavy snow/rain'],\n",
       "      dtype=object)"
      ]
     },
     "execution_count": 980,
     "metadata": {},
     "output_type": "execute_result"
    }
   ],
   "source": [
    "# Standardized weather column to lower case characters\n",
    "df_rentals.weather = df_rentals.weather.str.lower()\n",
    "\n",
    "dict_weather = {\n",
    "\n",
    "    # Replace incorrect values 'lear' and 'clar' with 'clear'\n",
    "    'lear': 'clear',\n",
    "    'clar': 'clear',\n",
    "\n",
    "    # Replace incorrect values 'cludy' and 'loudy' with 'cloudy'\n",
    "    'cludy': 'cloudy',\n",
    "    'loudy': 'cloudy',\n",
    "\n",
    "    # Replace incorrect value 'liht snow/rain' with 'light snow/rain'\n",
    "    'liht snow/rain': 'light snow/rain'\n",
    "}\n",
    "\n",
    "# Replace incorrect values in weather column\n",
    "df_rentals.replace({'weather': dict_weather}, inplace=True)\n",
    "\n",
    "# Verify that the incorrect values have been replaced\n",
    "df_rentals.weather.unique()"
   ]
  },
  {
   "cell_type": "code",
   "execution_count": 981,
   "metadata": {},
   "outputs": [
    {
     "data": {
      "text/plain": [
       "CategoricalDtype(categories=['clear', 'cloudy', 'heavy snow/rain', 'light snow/rain'], ordered=False)"
      ]
     },
     "execution_count": 981,
     "metadata": {},
     "output_type": "execute_result"
    }
   ],
   "source": [
    "# Convert the weather column from string to categorical data type\n",
    "df_rentals['weather'] = df_rentals.weather.astype('category')\n",
    "\n",
    "df_rentals.dtypes['weather']"
   ]
  },
  {
   "cell_type": "markdown",
   "metadata": {},
   "source": [
    "- The <b>weather</b> column contains 4 unique categorical values i.e. clear, cloudy, light snow/rain and heavy snow/rain.\n",
    "\n",
    "\n",
    "- One-hot encoding can be applied to the <b>weather</b> column later in feature engineering."
   ]
  },
  {
   "cell_type": "markdown",
   "metadata": {},
   "source": [
    "#### 5.4 <b style=\"font-family:'Courier New'; font-size:18px\">temperature</b>, <b style=\"font-family:'Courier New'; font-size:18px\">feels_like_temperature</b> Columns<a id='temperature_feels_like_temperature_columns'></a>"
   ]
  },
  {
   "cell_type": "code",
   "execution_count": 17,
   "metadata": {
    "scrolled": false
   },
   "outputs": [
    {
     "data": {
      "text/plain": [
       "(131.0, 48.1)"
      ]
     },
     "execution_count": 17,
     "metadata": {},
     "output_type": "execute_result"
    }
   ],
   "source": [
    "# Get the maximum and minimum temperature recorded\n",
    "max(df_rentals.temperature), min(df_rentals.temperature)"
   ]
  },
  {
   "cell_type": "code",
   "execution_count": 18,
   "metadata": {},
   "outputs": [
    {
     "data": {
      "text/plain": [
       "(179.6, 60.8)"
      ]
     },
     "execution_count": 18,
     "metadata": {},
     "output_type": "execute_result"
    }
   ],
   "source": [
    "# Get maximum and minimum feels_like_temperature recorded\n",
    "max(df_rentals.feels_like_temperature), min(df_rentals.feels_like_temperature)"
   ]
  },
  {
   "cell_type": "code",
   "execution_count": 19,
   "metadata": {
    "scrolled": true
   },
   "outputs": [
    {
     "data": {
      "text/plain": [
       "240"
      ]
     },
     "execution_count": 19,
     "metadata": {},
     "output_type": "execute_result"
    }
   ],
   "source": [
    "# Number of observations with temperatures above 120°F\n",
    "len(df_rentals[df_rentals.temperature > 120])"
   ]
  },
  {
   "cell_type": "markdown",
   "metadata": {},
   "source": [
    "- I shall assume that values from the <b>temperature</b> and <b>feels_like_temperature</b> columns are in fahrenheit.\n",
    "\n",
    "- I shal assume that this dataset is gathered from a city/town since people are renting e-scooters and e-bikes.\n",
    "\n",
    "\n",
    "- The maximum value of the <b>temperature</b> column is 131°F which is pretty close to the [highest temperature ever recorded](https://en.wikipedia.org/wiki/List_of_weather_records#Highest_temperatures_ever_recorded) of 134.1°F.\n",
    "\n",
    "\n",
    "- According to [TripSavvy](https://www.tripsavvy.com/the-worlds-hottest-cities-4070053), some of the highest temperatures recorded in a city include Phoenix 122°F, Marrakech 120°F, Mecca 121.6°F, Kuwait City 126°F, Ahvaz 129°F and Timbuktu 120°F.\n",
    "\n",
    "\n",
    "- There are 240 observations with temperatures above 120°F.  This dataset should be from a city known for its high temperatures. If otherwise, the temperatures in these observations need to be verified.\n",
    "\n",
    "\n",
    "- 'Feels like' temperature is also known as the [heat index](https://en.wikipedia.org/wiki/Heat_index).  In short, it is a temperature reading that factors in a component of relative humidity.\n",
    "\n",
    "\n",
    "- We can verify the values of the <b>feels_like_temperature</b> column using the heat index [formula](https://en.wikipedia.org/wiki/Heat_index#Formula).\n",
    "\n",
    "\n",
    "- Without any geographical information on this dataset given, I shall assume that all temperature readings are accurate. "
   ]
  },
  {
   "cell_type": "markdown",
   "metadata": {},
   "source": [
    "#### 5.5 <b style=\"font-family:'Courier New'; font-size:18px\">relative_humidity</b> Column"
   ]
  },
  {
   "cell_type": "code",
   "execution_count": 20,
   "metadata": {
    "scrolled": true
   },
   "outputs": [
    {
     "data": {
      "text/plain": [
       "(100.0, 0.0)"
      ]
     },
     "execution_count": 20,
     "metadata": {},
     "output_type": "execute_result"
    }
   ],
   "source": [
    "# Get the maximum and minimum values of relative humidity recorded\n",
    "max(df_rentals.relative_humidity), min(df_rentals.relative_humidity)"
   ]
  },
  {
   "cell_type": "code",
   "execution_count": 437,
   "metadata": {
    "scrolled": false
   },
   "outputs": [
    {
     "data": {
      "text/plain": [
       "25"
      ]
     },
     "execution_count": 437,
     "metadata": {},
     "output_type": "execute_result"
    }
   ],
   "source": [
    "# Number of observations with 0 relative humidity\n",
    "len(df_rentals[df_rentals.relative_humidity==0])"
   ]
  },
  {
   "cell_type": "markdown",
   "metadata": {},
   "source": [
    "- [Relative humidity](https://en.wikipedia.org/wiki/Relative_humidity) (RH) is the actual amount of water vapor present in relation to the capacity that the air has at a particular temperature.  It is express as a percentage.\n",
    "\n",
    "\n",
    "- A relative humidity reading of 0 implies [air devoid of water vapor](https://www.chicagotribune.com/news/ct-xpm-2011-12-16-ct-wea-1216-asktom-20111216-story.html). This is quite impossible given the climate conditions of a city/town, where I assume this dataset is gathered.  Values of 0 in the <b>relative_humidity</b> column need to be verified.\n",
    "\n",
    "\n",
    "- Since there are only 25 observations with 0 relative humidity, I've decided to drop them.\n",
    "\n",
    "\n",
    "- A relative humidity reading of 100 means that the air is totally saturated with water vapor and cannot hold any more, creating the possibility of rain.  So values of 100 in the <b>relative_humidity</b> column are valid."
   ]
  },
  {
   "cell_type": "code",
   "execution_count": 515,
   "metadata": {},
   "outputs": [
    {
     "data": {
      "text/plain": [
       "18643"
      ]
     },
     "execution_count": 515,
     "metadata": {},
     "output_type": "execute_result"
    }
   ],
   "source": [
    "# Number of observations in dataset\n",
    "len(df_rentals)"
   ]
  },
  {
   "cell_type": "code",
   "execution_count": 982,
   "metadata": {},
   "outputs": [
    {
     "data": {
      "text/plain": [
       "18618"
      ]
     },
     "execution_count": 982,
     "metadata": {},
     "output_type": "execute_result"
    }
   ],
   "source": [
    "# Drop observations with relative humidity value of 0\n",
    "df_rentals.drop(df_rentals[df_rentals.relative_humidity==0].index, inplace=True)\n",
    "\n",
    "# Check number of observations left after dropping\n",
    "len(df_rentals)"
   ]
  },
  {
   "cell_type": "markdown",
   "metadata": {},
   "source": [
    "#### 5.6 <b style=\"font-family:'Courier New'; font-size:18px\">windspeed</b> Column\n"
   ]
  },
  {
   "cell_type": "code",
   "execution_count": 29,
   "metadata": {},
   "outputs": [
    {
     "data": {
      "text/plain": [
       "(57.0, 0.0)"
      ]
     },
     "execution_count": 29,
     "metadata": {},
     "output_type": "execute_result"
    }
   ],
   "source": [
    "# Get the maximum and minimum values of the windspeed column\n",
    "max(df_rentals.windspeed), min(df_rentals.windspeed)"
   ]
  },
  {
   "cell_type": "markdown",
   "metadata": {},
   "source": [
    "- No units were given for the <b>windspeed</b> column.\n",
    "\n",
    "\n",
    "- Apparently, wind speed can be measured using a variety of [units](https://en.wikipedia.org/wiki/Wind_speed#Units) e.g. beaufort, knots, m/s, km/h, mph, depending on purpose, region or target audience.\n",
    "\n",
    "\n",
    "- [Wind speed of 0](https://www.wral.com/weather/blogpost/1116592/) is possible and said to be calm.\n",
    "\n",
    "\n",
    "- I'm unable to gauge if the maximum wind speed of 57 is valid. 57 m/s implies a hurricane, but 57 km/h is just a near gale.  \n",
    "\n",
    "\n",
    "- As such, I shall assume that values in the <b>windspeed</b> column are valid.\n"
   ]
  },
  {
   "cell_type": "markdown",
   "metadata": {},
   "source": [
    "#### 5.7 <b style=\"font-family:'Courier New'; font-size:18px\">psi</b> Column"
   ]
  },
  {
   "cell_type": "code",
   "execution_count": 33,
   "metadata": {
    "scrolled": true
   },
   "outputs": [
    {
     "data": {
      "text/plain": [
       "(50, 0)"
      ]
     },
     "execution_count": 33,
     "metadata": {},
     "output_type": "execute_result"
    }
   ],
   "source": [
    "# Get the maximum and minimum values of the psi column\n",
    "max(df_rentals.psi), min(df_rentals.psi)"
   ]
  },
  {
   "cell_type": "markdown",
   "metadata": {},
   "source": [
    "- The [Pollutant Standard Index (psi)](https://en.wikipedia.org/wiki/Pollutant_Standards_Index) is a measure of pollutants present in the air (0 to 400). \n",
    "\n",
    "\n",
    "- Values in the <b>psi</b> column are valid."
   ]
  },
  {
   "cell_type": "markdown",
   "metadata": {},
   "source": [
    "#### 5.8 <b style=\"font-family:'Courier New'; font-size:18px\">guest_scooter</b>, <b style=\"font-family:'Courier New'; font-size:18px\">registered_scooter</b> Columns"
   ]
  },
  {
   "cell_type": "code",
   "execution_count": 486,
   "metadata": {},
   "outputs": [
    {
     "data": {
      "text/plain": [
       "(1099, -2)"
      ]
     },
     "execution_count": 486,
     "metadata": {},
     "output_type": "execute_result"
    }
   ],
   "source": [
    "# Get the maximum and minimum values of the guest_scooter column\n",
    "max(df_rentals.guest_scooter), min(df_rentals.guest_scooter)"
   ]
  },
  {
   "cell_type": "code",
   "execution_count": 487,
   "metadata": {},
   "outputs": [
    {
     "data": {
      "text/plain": [
       "(6203, -2)"
      ]
     },
     "execution_count": 487,
     "metadata": {},
     "output_type": "execute_result"
    }
   ],
   "source": [
    "# Get the maximum and minimum values of the registered_scooter column\n",
    "max(df_rentals.registered_scooter), min(df_rentals.registered_scooter)"
   ]
  },
  {
   "cell_type": "code",
   "execution_count": 893,
   "metadata": {
    "scrolled": false
   },
   "outputs": [
    {
     "data": {
      "text/plain": [
       "658"
      ]
     },
     "execution_count": 893,
     "metadata": {},
     "output_type": "execute_result"
    }
   ],
   "source": [
    "# Number of observations with a negative value in either the guest_scooter or registered_scooter columns\n",
    "len(df_rentals[(df_rentals.guest_scooter<0) | (df_rentals.registered_scooter<0)])"
   ]
  },
  {
   "cell_type": "markdown",
   "metadata": {},
   "source": [
    "- Values in the <b>guest_scooter</b> and <b>registered_scooter</b> columns indicate the number of guest and registered users renting e-scooters in a particular hour, of a particular date.\n",
    "\n",
    "\n",
    "- As such, the values in the <b>guest_scooter</b> and <b>registered_scooter</b> columns should not be negative.\n",
    "\n",
    "\n",
    "- There are 658 observations with a negative value in either the <b>guest_scooter</b> or <b>registered_scooter</b> columns.\n",
    "\n",
    "\n",
    "- As there is no way of verifying these erroneous values, I shall set all negative values in the <b>guest_scooter</b> or <b>registered_scooter</b> columns to 0."
   ]
  },
  {
   "cell_type": "code",
   "execution_count": 983,
   "metadata": {
    "scrolled": true
   },
   "outputs": [
    {
     "data": {
      "text/plain": [
       "0"
      ]
     },
     "execution_count": 983,
     "metadata": {},
     "output_type": "execute_result"
    }
   ],
   "source": [
    "# Set all negative values in the guest_scooter column to 0\n",
    "df_rentals.loc[df_rentals.guest_scooter < 0, 'guest_scooter'] = 0\n",
    "\n",
    "# Set all negative values in the registered_scooter column to 0\n",
    "df_rentals.loc[df_rentals.registered_scooter < 0, 'registered_scooter'] = 0\n",
    "\n",
    "# Verify that there all negative values in the guest_scooter and registered_scooter columns have been set to 0\n",
    "len(df_rentals[(df_rentals.guest_scooter<0) | (df_rentals.registered_scooter<0)])"
   ]
  },
  {
   "cell_type": "markdown",
   "metadata": {},
   "source": [
    "#### 5.9 Duplicate Observations"
   ]
  },
  {
   "cell_type": "code",
   "execution_count": 519,
   "metadata": {},
   "outputs": [
    {
     "data": {
      "text/plain": [
       "18618"
      ]
     },
     "execution_count": 519,
     "metadata": {},
     "output_type": "execute_result"
    }
   ],
   "source": [
    "# Number of observations in dataset\n",
    "len(df_rentals)"
   ]
  },
  {
   "cell_type": "markdown",
   "metadata": {},
   "source": [
    "- As mentioned in Section 3. [Data Insights](#data_insights), there are more hourly observations than hours over 2 years from 2011 to 2012.\n",
    "\n",
    "\n",
    "- There are 18,618 hourly observations versus 17,520 (24 x 365 x 2) hours in the years 2011 and 2012.\n",
    "\n",
    "\n",
    "- Therefore, there are duplicate or erroneous observations in the dataset."
   ]
  },
  {
   "cell_type": "code",
   "execution_count": 984,
   "metadata": {},
   "outputs": [
    {
     "data": {
      "text/plain": [
       "1609"
      ]
     },
     "execution_count": 984,
     "metadata": {},
     "output_type": "execute_result"
    }
   ],
   "source": [
    "# Number of observations that are duplicates\n",
    "len(df_rentals[df_rentals.duplicated()])"
   ]
  },
  {
   "cell_type": "markdown",
   "metadata": {},
   "source": [
    "- There are 1,609 duplicate observations in the dataset.\n",
    "\n",
    " \n",
    "- I shall drop these duplicated observations."
   ]
  },
  {
   "cell_type": "code",
   "execution_count": 985,
   "metadata": {},
   "outputs": [
    {
     "data": {
      "text/plain": [
       "(17009, False)"
      ]
     },
     "execution_count": 985,
     "metadata": {},
     "output_type": "execute_result"
    }
   ],
   "source": [
    "# Drop duplicate observations\n",
    "df_rentals.drop_duplicates(inplace=True)\n",
    "\n",
    "# Verify that the duplicate observations have been removed\n",
    "len(df_rentals), any(df_rentals.duplicated())"
   ]
  },
  {
   "cell_type": "code",
   "execution_count": 986,
   "metadata": {},
   "outputs": [
    {
     "data": {
      "text/plain": [
       "17009"
      ]
     },
     "execution_count": 986,
     "metadata": {},
     "output_type": "execute_result"
    }
   ],
   "source": [
    "# Verify that all 17,009 observations have unique datetime values\n",
    "len(df_rentals.datetime.unique())"
   ]
  },
  {
   "cell_type": "markdown",
   "metadata": {},
   "source": [
    "### 6. Target/Dependent Variable\n",
    "\n",
    "- The target variable i.e. active e-scooter users, is numerical and discrete in nature.\n",
    "\n",
    "\n",
    "- As mentioned in Section 3. [Data Insights](#data_insights), the target variable (active e-scooter users) will be the sum of the guest and registered e-scooter users.\n",
    "\n",
    "\n",
    "- The <b>active_scooter</b> column should be created <b>AFTER</b> data cleaning as both the <b>guest_scooter</b> and <b>registered_scooter</b> columns contain errors.\n",
    "\n",
    "\n",
    "- Creating the <b>active_scooter</b> column before data cleaning would have introduced those pre-existing errors into the target variable column."
   ]
  },
  {
   "cell_type": "code",
   "execution_count": 987,
   "metadata": {},
   "outputs": [
    {
     "data": {
      "text/plain": [
       "Index(['date_str', 'hr_str', 'weather', 'temperature',\n",
       "       'feels_like_temperature', 'relative_humidity', 'windspeed', 'psi',\n",
       "       'guest_scooter', 'registered_scooter', 'date', 'datetime', 'hr',\n",
       "       'active_scooter'],\n",
       "      dtype='object')"
      ]
     },
     "execution_count": 987,
     "metadata": {},
     "output_type": "execute_result"
    }
   ],
   "source": [
    "# Create active_scooter column as target variable\n",
    "df_rentals['active_scooter'] = df_rentals.guest_scooter + df_rentals.registered_scooter\n",
    "\n",
    "# Verify target variable column has been created\n",
    "df_rentals.columns"
   ]
  },
  {
   "cell_type": "markdown",
   "metadata": {},
   "source": [
    "### 7. Feature Engineering\n",
    "\n",
    "#### 7.1 Day of the Week <a id='day_of_the_week'></a>\n",
    "\n",
    "- The day of the week will probably have an impact on the number of rentals.  There could be more rentals on work days (Mon-Fri) as people commute to work, and less on weekends (Sat-Sun) as people stay at home.\n",
    "\n",
    "\n",
    "- I will create a new feature/variable based on the day of week.\n",
    "\n",
    "\n",
    "- The day of the week is categorical in nature."
   ]
  },
  {
   "cell_type": "code",
   "execution_count": 988,
   "metadata": {},
   "outputs": [
    {
     "data": {
      "text/plain": [
       "Index(['date_str', 'hr_str', 'weather', 'temperature',\n",
       "       'feels_like_temperature', 'relative_humidity', 'windspeed', 'psi',\n",
       "       'guest_scooter', 'registered_scooter', 'date', 'datetime', 'hr',\n",
       "       'active_scooter', 'day_of_wk'],\n",
       "      dtype='object')"
      ]
     },
     "execution_count": 988,
     "metadata": {},
     "output_type": "execute_result"
    }
   ],
   "source": [
    "# Create day_of_wk column as independent variable\n",
    "df_rentals['day_of_wk'] = df_rentals.apply(lambda row: row.datetime.strftime('%A'), axis=1)\n",
    "\n",
    "# Verify day_of_wk variable column has been created\n",
    "df_rentals.columns"
   ]
  },
  {
   "cell_type": "code",
   "execution_count": 989,
   "metadata": {},
   "outputs": [
    {
     "data": {
      "text/plain": [
       "CategoricalDtype(categories=['Friday', 'Monday', 'Saturday', 'Sunday', 'Thursday',\n",
       "                  'Tuesday', 'Wednesday'],\n",
       "                 ordered=False)"
      ]
     },
     "execution_count": 989,
     "metadata": {},
     "output_type": "execute_result"
    }
   ],
   "source": [
    "# Convert the day_of_wk column from string to categorical data type\n",
    "df_rentals['day_of_wk'] = df_rentals.day_of_wk.astype('category')\n",
    "\n",
    "df_rentals.dtypes['day_of_wk']"
   ]
  },
  {
   "cell_type": "markdown",
   "metadata": {},
   "source": [
    "#### 7.2 One-Hot Encoding\n",
    "\n",
    "- There are several independent variables that are categorical in nature .i.e. the [<b>hr</b>](#hr_column) (Section 5.2), [<b>weather</b>](#weather_column) (Section 5.3)  and [<b>day_of_wk</b>](#day_of_the_week) (Section 6.2) columns.\n",
    "\n",
    "\n",
    "- To facilitate further exploration and modelling later, I will one-hot encode these columns.\n",
    "\n",
    "\n",
    "- I did not choose to label encode as assigning a running number series to categories has the disadvantage that the numerical values can be misinterpreted by machine learning algorithms as having some sort of hierarchy/order in them.\n",
    "\n",
    "\n",
    "- After encoding, the original column encoded will be removed.  As such, I shall store the encoded dataset in a separate dataframe i.e. <b>df_rentals_1hot</b>, as I may need the original un-encoded dataset at a later stage.  Also, not all algorithms require categorical variables to be one-hot encoded."
   ]
  },
  {
   "cell_type": "code",
   "execution_count": 990,
   "metadata": {},
   "outputs": [
    {
     "data": {
      "text/plain": [
       "Index(['date_str', 'hr_str', 'weather', 'temperature',\n",
       "       'feels_like_temperature', 'relative_humidity', 'windspeed', 'psi',\n",
       "       'guest_scooter', 'registered_scooter', 'date', 'datetime',\n",
       "       'active_scooter', 'day_of_wk', 'hr_0', 'hr_1', 'hr_10', 'hr_11',\n",
       "       'hr_12', 'hr_13', 'hr_14', 'hr_15', 'hr_16', 'hr_17', 'hr_18', 'hr_19',\n",
       "       'hr_2', 'hr_20', 'hr_21', 'hr_22', 'hr_23', 'hr_3', 'hr_4', 'hr_5',\n",
       "       'hr_6', 'hr_7', 'hr_8', 'hr_9'],\n",
       "      dtype='object')"
      ]
     },
     "execution_count": 990,
     "metadata": {},
     "output_type": "execute_result"
    }
   ],
   "source": [
    "# One-hot encode the hr column\n",
    "df_rentals_1hot = pd.get_dummies(df_rentals, columns=['hr'], prefix=['hr'])\n",
    "\n",
    "# Verify hr encoding columns were created\n",
    "df_rentals_1hot.columns"
   ]
  },
  {
   "cell_type": "code",
   "execution_count": 991,
   "metadata": {},
   "outputs": [
    {
     "data": {
      "text/plain": [
       "Index(['date_str', 'hr_str', 'temperature', 'feels_like_temperature',\n",
       "       'relative_humidity', 'windspeed', 'psi', 'guest_scooter',\n",
       "       'registered_scooter', 'date', 'datetime', 'active_scooter', 'day_of_wk',\n",
       "       'hr_0', 'hr_1', 'hr_10', 'hr_11', 'hr_12', 'hr_13', 'hr_14', 'hr_15',\n",
       "       'hr_16', 'hr_17', 'hr_18', 'hr_19', 'hr_2', 'hr_20', 'hr_21', 'hr_22',\n",
       "       'hr_23', 'hr_3', 'hr_4', 'hr_5', 'hr_6', 'hr_7', 'hr_8', 'hr_9',\n",
       "       'weather_clear', 'weather_cloudy', 'weather_heavy snow/rain',\n",
       "       'weather_light snow/rain'],\n",
       "      dtype='object')"
      ]
     },
     "execution_count": 991,
     "metadata": {},
     "output_type": "execute_result"
    }
   ],
   "source": [
    "# Create binary values for weather category values\n",
    "df_rentals_1hot = pd.get_dummies(df_rentals_1hot, columns=['weather'], prefix=['weather'])\n",
    "\n",
    "# Verify weather encoding columns were created\n",
    "df_rentals_1hot.columns"
   ]
  },
  {
   "cell_type": "code",
   "execution_count": 992,
   "metadata": {},
   "outputs": [
    {
     "data": {
      "text/plain": [
       "Index(['date_str', 'hr_str', 'temperature', 'feels_like_temperature',\n",
       "       'relative_humidity', 'windspeed', 'psi', 'guest_scooter',\n",
       "       'registered_scooter', 'date', 'datetime', 'active_scooter', 'hr_0',\n",
       "       'hr_1', 'hr_10', 'hr_11', 'hr_12', 'hr_13', 'hr_14', 'hr_15', 'hr_16',\n",
       "       'hr_17', 'hr_18', 'hr_19', 'hr_2', 'hr_20', 'hr_21', 'hr_22', 'hr_23',\n",
       "       'hr_3', 'hr_4', 'hr_5', 'hr_6', 'hr_7', 'hr_8', 'hr_9', 'weather_clear',\n",
       "       'weather_cloudy', 'weather_heavy snow/rain', 'weather_light snow/rain',\n",
       "       'day_of_wk_Friday', 'day_of_wk_Monday', 'day_of_wk_Saturday',\n",
       "       'day_of_wk_Sunday', 'day_of_wk_Thursday', 'day_of_wk_Tuesday',\n",
       "       'day_of_wk_Wednesday'],\n",
       "      dtype='object')"
      ]
     },
     "execution_count": 992,
     "metadata": {},
     "output_type": "execute_result"
    }
   ],
   "source": [
    "# One-hot encode the day_of_wk column\n",
    "df_rentals_1hot = pd.get_dummies(df_rentals_1hot, columns=['day_of_wk'], prefix=['day_of_wk'])\n",
    "\n",
    "# Verify day_of_wk encoding columns were created\n",
    "df_rentals_1hot.columns"
   ]
  },
  {
   "cell_type": "markdown",
   "metadata": {},
   "source": [
    "### 7. Data Visualization\n",
    "\n",
    "#### 7.1 Correlation <a id='correlation'></a>"
   ]
  },
  {
   "cell_type": "code",
   "execution_count": 993,
   "metadata": {},
   "outputs": [],
   "source": [
    "# Column labels of all numerical independent variables\n",
    "cols_numerical = ['guest_scooter', 'registered_scooter', 'temperature', 'feels_like_temperature', \n",
    "                  'relative_humidity', 'windspeed', 'psi']\n",
    "\n",
    "# Column labels of weather one-hot encoded variables\n",
    "cols_weather = ['weather_clear', 'weather_cloudy', 'weather_heavy snow/rain', 'weather_light snow/rain']\n",
    "\n",
    "# Column labels of day of week one-hot encoded variables\n",
    "cols_day_of_wk = ['day_of_wk_Friday', 'day_of_wk_Monday', 'day_of_wk_Saturday', 'day_of_wk_Sunday', \n",
    "                  'day_of_wk_Thursday', 'day_of_wk_Tuesday', 'day_of_wk_Wednesday']\n",
    "\n",
    "# Column labels of hour one-hot encoded variables\n",
    "cols_hr = ['hr_0', 'hr_1', 'hr_10', 'hr_11', 'hr_12', 'hr_13', 'hr_14', 'hr_15', 'hr_16', 'hr_17', 'hr_18', 'hr_19', \n",
    "           'hr_2', 'hr_20', 'hr_21', 'hr_22', 'hr_23', 'hr_3', 'hr_4', 'hr_5', 'hr_6', 'hr_7', 'hr_8', 'hr_9']\n",
    "\n",
    "cols_categorical = []\n",
    "\n",
    "cols_categorical.extend(cols_weather)\n",
    "cols_categorical.extend(cols_day_of_wk)\n",
    "cols_categorical.extend(cols_hr)\n",
    "\n",
    "# Construct list of column labels of numerical and one-hot encoded variables \n",
    "cols_all = ['active_scooter']\n",
    "\n",
    "cols_all.extend(cols_numerical)\n",
    "cols_all.extend(cols_categorical)"
   ]
  },
  {
   "cell_type": "code",
   "execution_count": 994,
   "metadata": {},
   "outputs": [],
   "source": [
    "# Create new dataset for visualization purposes\n",
    "df_rentals_viz = df_rentals_1hot.loc[:, cols_all]\n",
    "\n",
    "# Generate the correlation matrix between features of the rental dataset\n",
    "corr_rentals = df_rentals_viz.corr()"
   ]
  },
  {
   "cell_type": "code",
   "execution_count": 995,
   "metadata": {},
   "outputs": [
    {
     "data": {
      "text/plain": [
       "<matplotlib.axes._subplots.AxesSubplot at 0x18455313d88>"
      ]
     },
     "execution_count": 995,
     "metadata": {},
     "output_type": "execute_result"
    },
    {
     "data": {
      "image/png": "[encoded data removed]",
      "text/plain": [
       "<Figure size 1368x1224 with 2 Axes>"
      ]
     },
     "metadata": {},
     "output_type": "display_data"
    }
   ],
   "source": [
    "plt.figure(figsize=(19, 17))\n",
    "\n",
    "# Display heat map of the correlation matrix\n",
    "sns.heatmap(corr_rentals, cmap='coolwarm', annot=False, vmax=1, vmin=-1) "
   ]
  },
  {
   "cell_type": "code",
   "execution_count": 996,
   "metadata": {
    "scrolled": true
   },
   "outputs": [
    {
     "data": {
      "text/plain": [
       "active_scooter            1.000000\n",
       "registered_scooter        0.993727\n",
       "guest_scooter             0.599002\n",
       "temperature               0.369943\n",
       "feels_like_temperature    0.366657\n",
       "hr_17                     0.323805\n",
       "hr_18                     0.282614\n",
       "hr_8                      0.228570\n",
       "hr_19                     0.147046\n",
       "hr_16                     0.129006\n",
       "Name: active_scooter, dtype: float64"
      ]
     },
     "execution_count": 996,
     "metadata": {},
     "output_type": "execute_result"
    }
   ],
   "source": [
    "# Get the correlation coefficients of the target variable (active_scooter) \n",
    "coefficients = corr_rentals['active_scooter'].sort_values(ascending=False)\n",
    "\n",
    "# Get 10 most positively correlated indepedent variable\n",
    "coefficients.iloc[:10]"
   ]
  },
  {
   "cell_type": "code",
   "execution_count": 997,
   "metadata": {
    "scrolled": true
   },
   "outputs": [
    {
     "data": {
      "text/plain": [
       "hr_23                     -0.115535\n",
       "weather_light snow/rain   -0.119854\n",
       "hr_6                      -0.121624\n",
       "hr_0                      -0.154816\n",
       "hr_1                      -0.178456\n",
       "hr_2                      -0.188390\n",
       "hr_5                      -0.191673\n",
       "hr_3                      -0.199488\n",
       "hr_4                      -0.204436\n",
       "relative_humidity         -0.304816\n",
       "Name: active_scooter, dtype: float64"
      ]
     },
     "execution_count": 997,
     "metadata": {},
     "output_type": "execute_result"
    }
   ],
   "source": [
    "# Get 10 most negatively correlated indepedent variable\n",
    "coefficients.iloc[-10:]"
   ]
  },
  {
   "cell_type": "markdown",
   "metadata": {},
   "source": [
    "- <b>registered_scooter</b> has strong positive correlation (> 0.99) to the target variable <b>active_scooter</b>.  \n",
    "\n",
    "\n",
    "- This is expected as <b>active_scooter</b> is the sum of <b>registered_scooter</b> and <b>guest_scooter</b>. \n",
    "\n",
    "\n",
    "- <b>guest_scooter</b> also has a positive correlation but not as strongly as <b>registered_scooter</b>. \n",
    "\n",
    "\n",
    "- This is because <b>registered_scooter</b> is the bigger part of the summation, on average it contributes up to 90% of the value of <b>active_scooter</b>.\n",
    "\n",
    "\n",
    "- Features most correlated to the target variable are <b>registered_scooter</b>, <b>guest_scooter</b>, <b>temperature</b>, <b>feels_like_temperature</b> and <b>relative_humidity.</b>\n"
   ]
  },
  {
   "cell_type": "code",
   "execution_count": 998,
   "metadata": {
    "scrolled": true
   },
   "outputs": [
    {
     "data": {
      "text/plain": [
       "91.05239011532313"
      ]
     },
     "execution_count": 998,
     "metadata": {},
     "output_type": "execute_result"
    }
   ],
   "source": [
    "# Create a dataset to compare guest, registered and total active users \n",
    "df_users = df_rentals_viz.loc[:, ['active_scooter', 'guest_scooter', 'registered_scooter']]\n",
    "\n",
    "# Create a column that shows the percentage of registered users in the total active users\n",
    "df_users['registered_scooter_%'] = df_users['registered_scooter'] / df_users['active_scooter'] * 100\n",
    "\n",
    "# Get the mean (in %) of registered_scooter's contribution towards the active_scooter value\n",
    "df_users['registered_scooter_%'].mean()"
   ]
  },
  {
   "cell_type": "markdown",
   "metadata": {},
   "source": [
    "- <b>temperature</b> and <b>feels_like_temperature</b> presents strong positive correlation (0.99).  This is probably because <b>feels_like_temperature</b>, also known as heat index (refer to Section 5.4 [temperature, feels_like_temperature Columns](#temperature_feels_like_temperature_columns), is derived from <b>temperature</b> and <b>relative_humidity</b>.\n",
    "\n",
    "\n",
    "- <b>weather_clear</b> and <b>weather_light snow/rain</b> are the more significant weather conditions.\n",
    "\n",
    "\n",
    "- <b>day_of_wk_Saturday</b> and <b>day_of_wk_Sunday</b> are the more significant days in the week.\n",
    "\n",
    "\n",
    "- It is intersting to note that <b>day_of_wk_Saturday</b> and <b>day_of_wk_Sunday</b> are positively correlated to <b>guest_scooter</b> but negatively correlated to <b>registered_scooter</b>.\n",
    "\n",
    "\n",
    "- We can infer that on weekends (Saturday, Sunday), the number of guest users will increase while the registered users will drop. \n",
    "\n",
    "\n",
    "- <b>hr_8</b>, <b>hr_16</b>, <b>hr_17</b>, <b>hr_18</b>, <b>hr_19</b> are the more positively correlated hourly intervals. These time slots relate to the commute to work in the morning (08:00am) and the commute after work in the evening (04:00pm - 07:00pm).\n",
    "\n",
    "\n",
    "- <b>hr_23</b>, <b>hr_0</b>, <b>hr_1</b>, <b>hr_2</b>, <b>hr_3</b>, <b>hr_4</b>, <b>hr_5</b>, <b>hr_6</b> are the more negatively correlated hourly intervals. These time slots relate to people resting at home (11:00pm - 06:00am) and thus do not commute or need e-scooters."
   ]
  },
  {
   "cell_type": "markdown",
   "metadata": {},
   "source": [
    "#### 7.2 Outliers <a id='outliers'></a>"
   ]
  },
  {
   "cell_type": "code",
   "execution_count": 999,
   "metadata": {},
   "outputs": [
    {
     "data": {
      "image/png": "[encoded data removed]",
      "text/plain": [
       "<Figure size 864x432 with 7 Axes>"
      ]
     },
     "metadata": {},
     "output_type": "display_data"
    }
   ],
   "source": [
    "# Select columns with numerical data excluding the target variable\n",
    "ol_cols = cols_numerical.copy()\n",
    "\n",
    "df_outliers = df_rentals_viz[ol_cols]\n",
    "\n",
    "cols_count = len(ol_cols)\n",
    "\n",
    "plt.figure(figsize=(12, 6))\n",
    "\n",
    "# Generate box plots for all numerical independent variables  \n",
    "for i in range(0, cols_count):\n",
    "    \n",
    "    plt.subplot(1, cols_count, i+1)\n",
    "    \n",
    "    sns.set_style('whitegrid')\n",
    "    \n",
    "    sns.boxplot(df_outliers[ol_cols[i]], color='green', orient='v')\n",
    "    \n",
    "    plt.tight_layout()"
   ]
  },
  {
   "cell_type": "markdown",
   "metadata": {},
   "source": [
    "- Independent variables <b>guest_scooter</b>, <b>registered_scooter</b> and <b>windspeed</b> contain large numbers of outliers.  These outliers may be removed later during pre-processing.\n",
    "\n",
    "\n",
    "- Independent variables <b>temperature</b> and <b>feels_like_temperature</b> have similar distribution of values."
   ]
  },
  {
   "cell_type": "code",
   "execution_count": 1000,
   "metadata": {
    "scrolled": true
   },
   "outputs": [
    {
     "data": {
      "text/html": [
       "<div>\n",
       "<style scoped>\n",
       "    .dataframe tbody tr th:only-of-type {\n",
       "        vertical-align: middle;\n",
       "    }\n",
       "\n",
       "    .dataframe tbody tr th {\n",
       "        vertical-align: top;\n",
       "    }\n",
       "\n",
       "    .dataframe thead th {\n",
       "        text-align: right;\n",
       "    }\n",
       "</style>\n",
       "<table border=\"1\" class=\"dataframe\">\n",
       "  <thead>\n",
       "    <tr style=\"text-align: right;\">\n",
       "      <th></th>\n",
       "      <th>3rd</th>\n",
       "      <th>1st</th>\n",
       "      <th>iqr</th>\n",
       "      <th>3iqr</th>\n",
       "      <th>max</th>\n",
       "    </tr>\n",
       "  </thead>\n",
       "  <tbody>\n",
       "    <tr>\n",
       "      <th>guest_scooter</th>\n",
       "      <td>145.0</td>\n",
       "      <td>11.0</td>\n",
       "      <td>134.0</td>\n",
       "      <td>201.0</td>\n",
       "      <td>346.0</td>\n",
       "    </tr>\n",
       "    <tr>\n",
       "      <th>registered_scooter</th>\n",
       "      <td>1541.0</td>\n",
       "      <td>241.0</td>\n",
       "      <td>1300.0</td>\n",
       "      <td>1950.0</td>\n",
       "      <td>3491.0</td>\n",
       "    </tr>\n",
       "    <tr>\n",
       "      <th>temperature</th>\n",
       "      <td>102.2</td>\n",
       "      <td>75.2</td>\n",
       "      <td>27.0</td>\n",
       "      <td>40.5</td>\n",
       "      <td>142.7</td>\n",
       "    </tr>\n",
       "    <tr>\n",
       "      <th>feels_like_temperature</th>\n",
       "      <td>134.6</td>\n",
       "      <td>100.4</td>\n",
       "      <td>34.2</td>\n",
       "      <td>51.3</td>\n",
       "      <td>185.9</td>\n",
       "    </tr>\n",
       "    <tr>\n",
       "      <th>relative_humidity</th>\n",
       "      <td>78.0</td>\n",
       "      <td>48.0</td>\n",
       "      <td>30.0</td>\n",
       "      <td>45.0</td>\n",
       "      <td>123.0</td>\n",
       "    </tr>\n",
       "    <tr>\n",
       "      <th>windspeed</th>\n",
       "      <td>17.0</td>\n",
       "      <td>7.0</td>\n",
       "      <td>10.0</td>\n",
       "      <td>15.0</td>\n",
       "      <td>32.0</td>\n",
       "    </tr>\n",
       "    <tr>\n",
       "      <th>psi</th>\n",
       "      <td>38.0</td>\n",
       "      <td>13.0</td>\n",
       "      <td>25.0</td>\n",
       "      <td>37.5</td>\n",
       "      <td>75.5</td>\n",
       "    </tr>\n",
       "  </tbody>\n",
       "</table>\n",
       "</div>"
      ],
      "text/plain": [
       "                           3rd    1st     iqr    3iqr     max\n",
       "guest_scooter            145.0   11.0   134.0   201.0   346.0\n",
       "registered_scooter      1541.0  241.0  1300.0  1950.0  3491.0\n",
       "temperature              102.2   75.2    27.0    40.5   142.7\n",
       "feels_like_temperature   134.6  100.4    34.2    51.3   185.9\n",
       "relative_humidity         78.0   48.0    30.0    45.0   123.0\n",
       "windspeed                 17.0    7.0    10.0    15.0    32.0\n",
       "psi                       38.0   13.0    25.0    37.5    75.5"
      ]
     },
     "execution_count": 1000,
     "metadata": {},
     "output_type": "execute_result"
    }
   ],
   "source": [
    "# Generate quantile and maximum values of numerical features\n",
    "\n",
    "ser_quantile_1st = df_outliers.quantile(0.25)\n",
    "ser_quantile_3rd = df_outliers.quantile(0.75)\n",
    "ser_iqr = ser_quantile_3rd - ser_quantile_1st\n",
    "ser_3iqr = ser_iqr * 1.5\n",
    "ser_max = ser_quantile_3rd + ser_3iqr\n",
    "\n",
    "df_boxplots = pd.DataFrame({'3rd': ser_quantile_3rd, '1st': ser_quantile_1st, 'iqr': ser_iqr, \n",
    "                            '3iqr': ser_3iqr, 'max': ser_max})\n",
    "df_boxplots"
   ]
  },
  {
   "cell_type": "code",
   "execution_count": 1001,
   "metadata": {},
   "outputs": [
    {
     "data": {
      "text/plain": [
       "(329, 1147, 669)"
      ]
     },
     "execution_count": 1001,
     "metadata": {},
     "output_type": "execute_result"
    }
   ],
   "source": [
    "# Get number of outliers in the windspeed, guest_scooter, registered_scooter variables\n",
    "len(df_outliers[df_outliers.windspeed>32]), len(df_outliers[df_outliers.guest_scooter>346]), len(df_outliers[df_outliers.registered_scooter>3491])"
   ]
  },
  {
   "cell_type": "markdown",
   "metadata": {},
   "source": [
    "#### 7.3 Distribution Skewness"
   ]
  },
  {
   "cell_type": "code",
   "execution_count": 1002,
   "metadata": {},
   "outputs": [
    {
     "data": {
      "image/png": "[encoded data removed]",
      "text/plain": [
       "<Figure size 1080x432 with 7 Axes>"
      ]
     },
     "metadata": {},
     "output_type": "display_data"
    }
   ],
   "source": [
    "plt.figure(figsize=(15, 6))\n",
    "\n",
    "# Generate distribution plots for all numerical independent variables  \n",
    "for i in range(0, cols_count):\n",
    "    \n",
    "    plt.subplot(1, cols_count, i+1)\n",
    "    \n",
    "    sns.distplot(df_outliers[ol_cols[i]], kde=True) "
   ]
  },
  {
   "cell_type": "markdown",
   "metadata": {},
   "source": [
    "- Independent variables <b>guest_scooter</b>, <b>registered_scooter</b> and <b>windspeed</b> are right/positively skewed.\n",
    "\n",
    "\n",
    "- Distribution plots of variables <b>temperature</b>, <b>feels_like_temperature</b> and <b>relative_humidity</b> are similar."
   ]
  },
  {
   "cell_type": "markdown",
   "metadata": {},
   "source": [
    "#### 7.4 Bar Charts <a id='bar_charts'></a>"
   ]
  },
  {
   "cell_type": "code",
   "execution_count": 1005,
   "metadata": {},
   "outputs": [
    {
     "data": {
      "image/png": "[encoded data removed]",
      "text/plain": [
       "<Figure size 720x360 with 1 Axes>"
      ]
     },
     "metadata": {},
     "output_type": "display_data"
    }
   ],
   "source": [
    "# Show distribution of users across weather conditions\n",
    "df_users = df_rentals[['weather', 'active_scooter']]\n",
    "\n",
    "df_users.groupby(['weather']).sum().sort_values(by='active_scooter', ascending=False).plot(kind='bar', figsize=(10,5))\n",
    "\n",
    "plt.ylabel('Active Users')\n",
    "plt.xlabel('Weather');"
   ]
  },
  {
   "cell_type": "markdown",
   "metadata": {},
   "source": [
    "- There is an overwhelming number of users when weather was clear compared to other conditions."
   ]
  },
  {
   "cell_type": "code",
   "execution_count": 1004,
   "metadata": {
    "scrolled": false
   },
   "outputs": [
    {
     "data": {
      "image/png": "[encoded data removed]",
      "text/plain": [
       "<Figure size 720x360 with 1 Axes>"
      ]
     },
     "metadata": {},
     "output_type": "display_data"
    }
   ],
   "source": [
    "# Show distribution of users across days in a week\n",
    "df_users = df_rentals[['day_of_wk', 'active_scooter']]\n",
    "\n",
    "df_users.groupby(['day_of_wk']).sum().sort_values(by='active_scooter', ascending=False).plot(kind='bar', figsize=(10,5))\n",
    "\n",
    "plt.ylabel('Active Users')\n",
    "plt.xlabel('Day of Week');"
   ]
  },
  {
   "cell_type": "markdown",
   "metadata": {},
   "source": [
    "- The number of users across work days (Mon-Fri) seem to be rather consistent. On weekends (Sat-Sun), there is a slight drop."
   ]
  },
  {
   "cell_type": "code",
   "execution_count": 1006,
   "metadata": {
    "scrolled": true
   },
   "outputs": [
    {
     "data": {
      "image/png": "[encoded data removed]",
      "text/plain": [
       "<Figure size 720x360 with 1 Axes>"
      ]
     },
     "metadata": {},
     "output_type": "display_data"
    }
   ],
   "source": [
    "# Show distribution of users across days in a week\n",
    "df_users = df_rentals[['hr', 'active_scooter']]\n",
    "\n",
    "df_users.groupby(['hr']).sum().sort_values(by='active_scooter', ascending=False).plot(kind='bar', figsize=(10,5))\n",
    "\n",
    "plt.ylabel('Active Users')\n",
    "plt.xlabel('Hour of Day');"
   ]
  },
  {
   "cell_type": "markdown",
   "metadata": {},
   "source": [
    "- There are most number of users during the morning (08:00am) and evening (16:00pm - 19:00pm) commute, probably to and from work.\n",
    "\n",
    "\n",
    "- There are the least number of users after midnight into the early hours of the morning (01:00am - 05:00am), probably because people are resting at home.\n",
    "\n",
    "\n",
    "- This is in line with findings from Section 7.1 [Correlation](#correlation)."
   ]
  },
  {
   "cell_type": "markdown",
   "metadata": {},
   "source": [
    "### 8. Feature Selection"
   ]
  },
  {
   "cell_type": "code",
   "execution_count": 1016,
   "metadata": {
    "scrolled": false
   },
   "outputs": [
    {
     "name": "stdout",
     "output_type": "stream",
     "text": [
      "                     Column         Score\n",
      "1        registered_scooter  2.538030e+06\n",
      "0             guest_scooter  1.097777e+04\n",
      "2               temperature  1.841110e+03\n",
      "3    feels_like_temperature  1.818007e+03\n",
      "4         relative_humidity  1.324168e+03\n",
      "36                     hr_4  8.407210e+02\n",
      "35                     hr_3  7.896248e+02\n",
      "28                    hr_18  7.695758e+02\n",
      "29                    hr_19  7.098133e+02\n",
      "37                     hr_5  7.040130e+02\n",
      "30                     hr_2  6.735914e+02\n",
      "27                    hr_17  6.624722e+02\n",
      "19                     hr_1  5.762446e+02\n",
      "26                    hr_16  5.244412e+02\n",
      "18                     hr_0  3.859720e+02\n",
      "40                     hr_8  3.680893e+02\n",
      "31                    hr_20  2.571610e+02\n",
      "41                     hr_9  2.288081e+02\n",
      "14         day_of_wk_Sunday  2.196747e+02\n",
      "10  weather_light snow/rain  1.951685e+02\n"
     ]
    }
   ],
   "source": [
    "from sklearn.feature_selection import SelectKBest\n",
    "from sklearn.feature_selection import f_regression\n",
    "\n",
    "cols_select = cols_all.copy()\n",
    "\n",
    "cols_select.remove('active_scooter')\n",
    "\n",
    "X_select = df_rentals_1hot[cols_select]\n",
    "y_select = df_rentals_1hot['active_scooter']\n",
    "\n",
    "# Select the best 20 features based on univariate regression f-value \n",
    "kbest = SelectKBest(score_func=f_regression, k=20)\n",
    "\n",
    "fit_select = kbest.fit(X_select, y_select)\n",
    "\n",
    "df_scores = pd.DataFrame(fit_select.scores_)\n",
    "df_columns = pd.DataFrame(X_select.columns)\n",
    "\n",
    "scores = pd.concat([df_columns, df_scores], axis=1)\n",
    "\n",
    "scores.columns = ['Column','Score']\n",
    "\n",
    "# Print top 20 features with the highest scores\n",
    "print(scores.nlargest(20, 'Score'))"
   ]
  },
  {
   "cell_type": "markdown",
   "metadata": {},
   "source": [
    "- Comparing the top 20 features from SelectKBest (above) and the most correlated (positively/negatively) features from Section 7.1 [Correlation](#correlation), the following are the common features:\n",
    "\n",
    "        - registered_scooter\n",
    "        - guest_scooter\n",
    "        - temperature\n",
    "        - feels_like_temperature\n",
    "        - relative_humidity\n",
    "        - weather_light snow/rain\n",
    "        - hr_0, hr_1, hr_2, hr_3, hr_4, hr_5, hr_8, hr_16, hr_17, hr_18, hr_19\n",
    "        \n",
    "        \n",
    "- As mentioned in Section 7.1 [Correlation](#correlation), <b>temperature</b> and <b>feels_like_temperature</b> are highly correlated. <b>feels_like_temperature</b> is a heat index, calculated from <b>temperature</b> and <b>relative_humidity</b> (refer to Section 5.4 [temperature, feels_like_temperature Columns](#temperature_feels_like_temperature_columns)). As such, I will drop the feature <b>feels_like_temperature</b> as a predictor of <b>active_scooter</b>.\n",
    "\n",
    "\n",
    "- From Section 7.4 [Bar Charts](#bar_charts), a large proportion of active users rented e-scooters when weather conditions were clear.  As such, I will include the feature <b>weather_clear</b>.\n",
    "\n",
    "\n",
    "- The feature <b>day_of_wk_Sunday</b> is amongst one of the top 20 scores from SelectKBest.  Also from Section 7.4 [Bar Charts](#bar_charts), there seems to be less users on e-scooters on Sundays.  As such, I will include the feature <b>day_of_wk_Sunday</b>.\n",
    "\n",
    "\n",
    "- Below is the list of 18 selected features:\n",
    "\n",
    "\n",
    "        - registered_scooter\n",
    "        - guest_scooter\n",
    "        - temperature\n",
    "        - relative_humidity\n",
    "        - weather_clear\n",
    "        - weather_light snow/rain\n",
    "        - day_of_wk_Sunday\n",
    "        - hr_0, hr_1, hr_2, hr_3, hr_4, hr_5, hr_8, hr_16, hr_17, hr_18, hr_19\n",
    "        "
   ]
  },
  {
   "cell_type": "code",
   "execution_count": 1028,
   "metadata": {},
   "outputs": [
    {
     "data": {
      "text/html": [
       "<div>\n",
       "<style scoped>\n",
       "    .dataframe tbody tr th:only-of-type {\n",
       "        vertical-align: middle;\n",
       "    }\n",
       "\n",
       "    .dataframe tbody tr th {\n",
       "        vertical-align: top;\n",
       "    }\n",
       "\n",
       "    .dataframe thead th {\n",
       "        text-align: right;\n",
       "    }\n",
       "</style>\n",
       "<table border=\"1\" class=\"dataframe\">\n",
       "  <thead>\n",
       "    <tr style=\"text-align: right;\">\n",
       "      <th></th>\n",
       "      <th>active_scooter</th>\n",
       "      <th>registered_scooter</th>\n",
       "      <th>guest_scooter</th>\n",
       "      <th>temperature</th>\n",
       "      <th>relative_humidity</th>\n",
       "      <th>weather_clear</th>\n",
       "      <th>weather_light snow/rain</th>\n",
       "      <th>day_of_wk_Sunday</th>\n",
       "      <th>hr_0</th>\n",
       "      <th>hr_1</th>\n",
       "      <th>hr_2</th>\n",
       "      <th>hr_3</th>\n",
       "      <th>hr_4</th>\n",
       "      <th>hr_5</th>\n",
       "      <th>hr_8</th>\n",
       "      <th>hr_16</th>\n",
       "      <th>hr_17</th>\n",
       "      <th>hr_18</th>\n",
       "      <th>hr_19</th>\n",
       "    </tr>\n",
       "  </thead>\n",
       "  <tbody>\n",
       "    <tr>\n",
       "      <th>0</th>\n",
       "      <td>668</td>\n",
       "      <td>631</td>\n",
       "      <td>37</td>\n",
       "      <td>109.0</td>\n",
       "      <td>51.0</td>\n",
       "      <td>1</td>\n",
       "      <td>0</td>\n",
       "      <td>0</td>\n",
       "      <td>0</td>\n",
       "      <td>0</td>\n",
       "      <td>0</td>\n",
       "      <td>0</td>\n",
       "      <td>0</td>\n",
       "      <td>0</td>\n",
       "      <td>0</td>\n",
       "      <td>0</td>\n",
       "      <td>0</td>\n",
       "      <td>0</td>\n",
       "      <td>0</td>\n",
       "    </tr>\n",
       "    <tr>\n",
       "      <th>1</th>\n",
       "      <td>935</td>\n",
       "      <td>894</td>\n",
       "      <td>41</td>\n",
       "      <td>80.2</td>\n",
       "      <td>82.0</td>\n",
       "      <td>0</td>\n",
       "      <td>0</td>\n",
       "      <td>0</td>\n",
       "      <td>0</td>\n",
       "      <td>0</td>\n",
       "      <td>0</td>\n",
       "      <td>0</td>\n",
       "      <td>0</td>\n",
       "      <td>0</td>\n",
       "      <td>0</td>\n",
       "      <td>0</td>\n",
       "      <td>0</td>\n",
       "      <td>0</td>\n",
       "      <td>0</td>\n",
       "    </tr>\n",
       "    <tr>\n",
       "      <th>2</th>\n",
       "      <td>377</td>\n",
       "      <td>350</td>\n",
       "      <td>27</td>\n",
       "      <td>90.4</td>\n",
       "      <td>77.0</td>\n",
       "      <td>1</td>\n",
       "      <td>0</td>\n",
       "      <td>0</td>\n",
       "      <td>0</td>\n",
       "      <td>0</td>\n",
       "      <td>0</td>\n",
       "      <td>0</td>\n",
       "      <td>0</td>\n",
       "      <td>0</td>\n",
       "      <td>0</td>\n",
       "      <td>0</td>\n",
       "      <td>0</td>\n",
       "      <td>0</td>\n",
       "      <td>0</td>\n",
       "    </tr>\n",
       "    <tr>\n",
       "      <th>3</th>\n",
       "      <td>356</td>\n",
       "      <td>354</td>\n",
       "      <td>2</td>\n",
       "      <td>71.8</td>\n",
       "      <td>36.0</td>\n",
       "      <td>1</td>\n",
       "      <td>0</td>\n",
       "      <td>0</td>\n",
       "      <td>0</td>\n",
       "      <td>1</td>\n",
       "      <td>0</td>\n",
       "      <td>0</td>\n",
       "      <td>0</td>\n",
       "      <td>0</td>\n",
       "      <td>0</td>\n",
       "      <td>0</td>\n",
       "      <td>0</td>\n",
       "      <td>0</td>\n",
       "      <td>0</td>\n",
       "    </tr>\n",
       "    <tr>\n",
       "      <th>4</th>\n",
       "      <td>105</td>\n",
       "      <td>82</td>\n",
       "      <td>23</td>\n",
       "      <td>102.2</td>\n",
       "      <td>78.0</td>\n",
       "      <td>0</td>\n",
       "      <td>0</td>\n",
       "      <td>1</td>\n",
       "      <td>0</td>\n",
       "      <td>0</td>\n",
       "      <td>0</td>\n",
       "      <td>0</td>\n",
       "      <td>0</td>\n",
       "      <td>1</td>\n",
       "      <td>0</td>\n",
       "      <td>0</td>\n",
       "      <td>0</td>\n",
       "      <td>0</td>\n",
       "      <td>0</td>\n",
       "    </tr>\n",
       "  </tbody>\n",
       "</table>\n",
       "</div>"
      ],
      "text/plain": [
       "   active_scooter  registered_scooter  guest_scooter  temperature  \\\n",
       "0             668                 631             37        109.0   \n",
       "1             935                 894             41         80.2   \n",
       "2             377                 350             27         90.4   \n",
       "3             356                 354              2         71.8   \n",
       "4             105                  82             23        102.2   \n",
       "\n",
       "   relative_humidity  weather_clear  weather_light snow/rain  \\\n",
       "0               51.0              1                        0   \n",
       "1               82.0              0                        0   \n",
       "2               77.0              1                        0   \n",
       "3               36.0              1                        0   \n",
       "4               78.0              0                        0   \n",
       "\n",
       "   day_of_wk_Sunday  hr_0  hr_1  hr_2  hr_3  hr_4  hr_5  hr_8  hr_16  hr_17  \\\n",
       "0                 0     0     0     0     0     0     0     0      0      0   \n",
       "1                 0     0     0     0     0     0     0     0      0      0   \n",
       "2                 0     0     0     0     0     0     0     0      0      0   \n",
       "3                 0     0     1     0     0     0     0     0      0      0   \n",
       "4                 1     0     0     0     0     0     1     0      0      0   \n",
       "\n",
       "   hr_18  hr_19  \n",
       "0      0      0  \n",
       "1      0      0  \n",
       "2      0      0  \n",
       "3      0      0  \n",
       "4      0      0  "
      ]
     },
     "execution_count": 1028,
     "metadata": {},
     "output_type": "execute_result"
    }
   ],
   "source": [
    "cols_selected = ['active_scooter', 'registered_scooter', 'guest_scooter', 'temperature', 'relative_humidity', \n",
    "                 'weather_clear', 'weather_light snow/rain', \n",
    "                 'day_of_wk_Sunday', \n",
    "                 'hr_0', 'hr_1', 'hr_2', 'hr_3', 'hr_4', 'hr_5', 'hr_8', 'hr_16', 'hr_17', 'hr_18', 'hr_19']\n",
    "\n",
    "\n",
    "df_selected = df_rentals_1hot[cols_selected]"
   ]
  },
  {
   "cell_type": "markdown",
   "metadata": {},
   "source": [
    "### 9. Feature Pre-processing\n",
    "\n",
    "#### 9.1 Remove Outliers\n",
    "\n",
    "- From Section 7.2 [Outliers](#outliers), independent variables <b>guest_scooter</b>, <b>registered_scooter</b> and <b>windspeed</b> contain large numbers of outliers.\n",
    "\n",
    "\n",
    "- I shall remove these outliers, taking reference from their box plots."
   ]
  },
  {
   "cell_type": "code",
   "execution_count": 1029,
   "metadata": {},
   "outputs": [
    {
     "data": {
      "text/plain": [
       "14935"
      ]
     },
     "execution_count": 1029,
     "metadata": {},
     "output_type": "execute_result"
    }
   ],
   "source": [
    "len(df_selected)"
   ]
  },
  {
   "cell_type": "markdown",
   "metadata": {},
   "source": [
    "- Before removing outliers, we have 17,009 observations."
   ]
  },
  {
   "cell_type": "code",
   "execution_count": 1031,
   "metadata": {},
   "outputs": [
    {
     "data": {
      "text/plain": [
       "14935"
      ]
     },
     "execution_count": 1031,
     "metadata": {},
     "output_type": "execute_result"
    }
   ],
   "source": [
    "# Remove outliers from registered_scooter and guest_scooter base on their maximum values in the box plots\n",
    "df_selected = df_selected[df_selected.registered_scooter<=3491]\n",
    "df_selected = df_selected[df_selected.guest_scooter<=346]\n",
    "\n",
    "len(df_selected)"
   ]
  },
  {
   "cell_type": "markdown",
   "metadata": {},
   "source": [
    "- After removing outliers, I'm left with 14,935 observations.  That's about a 12% reduction of observations. "
   ]
  },
  {
   "cell_type": "code",
   "execution_count": 1037,
   "metadata": {
    "scrolled": false
   },
   "outputs": [
    {
     "data": {
      "image/png": "[encoded data removed]",
      "text/plain": [
       "<Figure size 864x432 with 4 Axes>"
      ]
     },
     "metadata": {},
     "output_type": "display_data"
    }
   ],
   "source": [
    "ol_cols = ['registered_scooter', 'guest_scooter', 'temperature', 'relative_humidity']\n",
    "\n",
    "df_outliers = df_selected[ol_cols]\n",
    "\n",
    "cols_count = len(ol_cols)\n",
    "\n",
    "plt.figure(figsize=(12, 6))\n",
    "\n",
    "# Generate box plots for all numerical independent variables  \n",
    "for i in range(0, cols_count):\n",
    "    \n",
    "    plt.subplot(1, cols_count, i+1)\n",
    "    \n",
    "    sns.set_style('whitegrid')\n",
    "    \n",
    "    sns.boxplot(df_outliers[ol_cols[i]], color='green', orient='v')\n",
    "    \n",
    "    plt.tight_layout()"
   ]
  },
  {
   "cell_type": "markdown",
   "metadata": {},
   "source": [
    "- There still exist outliers in the variables <b>guest_scooter</b> and <b>registered_scooter</b>. However, their numbers have been siginificantly reduced as evident from the length of trailing dots."
   ]
  },
  {
   "cell_type": "markdown",
   "metadata": {},
   "source": [
    "#### 8.2 Scaling"
   ]
  },
  {
   "cell_type": "markdown",
   "metadata": {},
   "source": [
    "- As mention in Section 4. [Summary Statistics](#summary_statistics), there is a need to perform scaling to the features due to the difference in the range of values. \n",
    "\n",
    "\n",
    "- Many machine learning algorithms perform better or converge faster when features are on a relatively similar scale and/or close to normally distributed.\n",
    "\n",
    "\n",
    "- To cater for algorithms that require close to 0 mean and unit variance, I've decided to use standard scaling."
   ]
  },
  {
   "cell_type": "code",
   "execution_count": 1038,
   "metadata": {},
   "outputs": [],
   "source": [
    "cols_X = df_selected.columns.to_list()\n",
    "\n",
    "cols_X.remove('active_scooter')\n",
    "\n",
    "# Independent variables\n",
    "X = df_selected[cols_X] \n",
    "\n",
    "# Target/dependent variable\n",
    "y = df_selected['active_scooter']"
   ]
  },
  {
   "cell_type": "code",
   "execution_count": 1039,
   "metadata": {},
   "outputs": [],
   "source": [
    "from sklearn.preprocessing import StandardScaler\n",
    "from sklearn.model_selection import train_test_split\n",
    "\n",
    "# Split dataset into train and test subsets\n",
    "X_train, X_test, y_train, y_test = train_test_split(X, y, test_size=0.33, random_state=19)"
   ]
  },
  {
   "cell_type": "code",
   "execution_count": 1040,
   "metadata": {
    "scrolled": true
   },
   "outputs": [
    {
     "data": {
      "text/plain": [
       "(10006, 4929, 14935)"
      ]
     },
     "execution_count": 1040,
     "metadata": {},
     "output_type": "execute_result"
    }
   ],
   "source": [
    "# Compare number of observations in train, test and original datasets\n",
    "len(X_train), len(X_test), len(df_selected)"
   ]
  },
  {
   "cell_type": "code",
   "execution_count": 1052,
   "metadata": {
    "scrolled": false
   },
   "outputs": [
    {
     "data": {
      "text/plain": [
       "<matplotlib.axes._subplots.AxesSubplot at 0x1845c220888>"
      ]
     },
     "execution_count": 1052,
     "metadata": {},
     "output_type": "execute_result"
    },
    {
     "data": {
      "image/png": "[encoded data removed]",
      "text/plain": [
       "<Figure size 720x576 with 1 Axes>"
      ]
     },
     "metadata": {},
     "output_type": "display_data"
    }
   ],
   "source": [
    "std_scaler = StandardScaler()\n",
    "\n",
    "# Standard scale the independent variables of the train dataset\n",
    "df_X_train_ss = std_scaler.fit_transform(X_train)\n",
    "df_X_train_ss = pd.DataFrame(df_X_train_ss, columns=X_train.columns)\n",
    "\n",
    "# Standard scale the independent variables of the test dataset\n",
    "df_X_test_ss = std_scaler.fit_transform(X_test)\n",
    "df_X_test_ss = pd.DataFrame(df_X_test_ss, columns=X_train.columns)\n",
    "\n",
    "fig, (ax1) = plt.subplots(ncols=1, figsize=(10, 8))\n",
    "ax1.set_title('After StandardScaler')\n",
    "\n",
    "sns.kdeplot(df_X_train_ss['guest_scooter'], ax=ax1)\n",
    "sns.kdeplot(df_X_train_ss['registered_scooter'], ax=ax1)\n",
    "sns.kdeplot(df_X_train_ss['temperature'], ax=ax1)\n",
    "sns.kdeplot(df_X_train_ss['relative_humidity'], ax=ax1)\n",
    "#sns.kdeplot(df_X_train_ss['weather_clear'], ax=ax1);\n",
    "#sns.kdeplot(df_X_train_ss['day_of_wk_Sunday'], ax=ax1);\n",
    "#sns.kdeplot(df_X_train_ss['hr_0'], ax=ax1);\n"
   ]
  },
  {
   "cell_type": "markdown",
   "metadata": {},
   "source": [
    "### 9. Modelling\n",
    "\n",
    "#### 9.1 Multi Linear Regression"
   ]
  },
  {
   "cell_type": "code",
   "execution_count": 1054,
   "metadata": {
    "scrolled": true
   },
   "outputs": [
    {
     "data": {
      "text/plain": [
       "LinearRegression(copy_X=True, fit_intercept=True, n_jobs=None, normalize=False)"
      ]
     },
     "execution_count": 1054,
     "metadata": {},
     "output_type": "execute_result"
    }
   ],
   "source": [
    "from sklearn.linear_model import LinearRegression\n",
    "from sklearn import metrics\n",
    "\n",
    "lr = LinearRegression()  \n",
    "lr.fit(df_X_train_ss, y_train)"
   ]
  },
  {
   "cell_type": "code",
   "execution_count": 1058,
   "metadata": {
    "scrolled": false
   },
   "outputs": [],
   "source": [
    "# Show coefficients regression model\n",
    "df_coef = pd.DataFrame(lr.coef_, df_X_train_ss.columns, columns=['Coefficient'])  "
   ]
  },
  {
   "cell_type": "code",
   "execution_count": 1061,
   "metadata": {
    "scrolled": false
   },
   "outputs": [
    {
     "data": {
      "text/html": [
       "<div>\n",
       "<style scoped>\n",
       "    .dataframe tbody tr th:only-of-type {\n",
       "        vertical-align: middle;\n",
       "    }\n",
       "\n",
       "    .dataframe tbody tr th {\n",
       "        vertical-align: top;\n",
       "    }\n",
       "\n",
       "    .dataframe thead th {\n",
       "        text-align: right;\n",
       "    }\n",
       "</style>\n",
       "<table border=\"1\" class=\"dataframe\">\n",
       "  <thead>\n",
       "    <tr style=\"text-align: right;\">\n",
       "      <th></th>\n",
       "      <th>Actual</th>\n",
       "      <th>Predicted</th>\n",
       "    </tr>\n",
       "  </thead>\n",
       "  <tbody>\n",
       "    <tr>\n",
       "      <th>2690</th>\n",
       "      <td>839</td>\n",
       "      <td>847.838596</td>\n",
       "    </tr>\n",
       "    <tr>\n",
       "      <th>14088</th>\n",
       "      <td>1843</td>\n",
       "      <td>1869.967480</td>\n",
       "    </tr>\n",
       "    <tr>\n",
       "      <th>2236</th>\n",
       "      <td>236</td>\n",
       "      <td>232.596827</td>\n",
       "    </tr>\n",
       "    <tr>\n",
       "      <th>14997</th>\n",
       "      <td>183</td>\n",
       "      <td>178.317104</td>\n",
       "    </tr>\n",
       "    <tr>\n",
       "      <th>3497</th>\n",
       "      <td>152</td>\n",
       "      <td>146.570657</td>\n",
       "    </tr>\n",
       "    <tr>\n",
       "      <th>16810</th>\n",
       "      <td>1558</td>\n",
       "      <td>1580.952622</td>\n",
       "    </tr>\n",
       "    <tr>\n",
       "      <th>10420</th>\n",
       "      <td>118</td>\n",
       "      <td>111.848240</td>\n",
       "    </tr>\n",
       "    <tr>\n",
       "      <th>18088</th>\n",
       "      <td>380</td>\n",
       "      <td>379.524820</td>\n",
       "    </tr>\n",
       "    <tr>\n",
       "      <th>2552</th>\n",
       "      <td>34</td>\n",
       "      <td>26.260931</td>\n",
       "    </tr>\n",
       "    <tr>\n",
       "      <th>12531</th>\n",
       "      <td>1355</td>\n",
       "      <td>1374.802345</td>\n",
       "    </tr>\n",
       "  </tbody>\n",
       "</table>\n",
       "</div>"
      ],
      "text/plain": [
       "       Actual    Predicted\n",
       "2690      839   847.838596\n",
       "14088    1843  1869.967480\n",
       "2236      236   232.596827\n",
       "14997     183   178.317104\n",
       "3497      152   146.570657\n",
       "16810    1558  1580.952622\n",
       "10420     118   111.848240\n",
       "18088     380   379.524820\n",
       "2552       34    26.260931\n",
       "12531    1355  1374.802345"
      ]
     },
     "execution_count": 1061,
     "metadata": {},
     "output_type": "execute_result"
    }
   ],
   "source": [
    "# Predict active users using test dataset\n",
    "y_pred = lr.predict(df_X_test_ss)\n",
    "\n",
    "# Compare prediction against actual active users\n",
    "df_compare = pd.DataFrame({'Actual': y_test, 'Predicted': y_pred})\n",
    "\n",
    "df_compare.head(10)"
   ]
  },
  {
   "cell_type": "code",
   "execution_count": null,
   "metadata": {},
   "outputs": [],
   "source": [
    "df_compare.plot(kind='bar',figsize=(10,8))\n",
    "\n",
    "plt.grid(which='major', linestyle='-', linewidth='0.5', color='green')\n",
    "plt.grid(which='minor', linestyle=':', linewidth='0.5', color='black')\n",
    "plt.show()"
   ]
  },
  {
   "cell_type": "code",
   "execution_count": null,
   "metadata": {},
   "outputs": [],
   "source": [
    "print('Mean Absolute Error:', metrics.mean_absolute_error(y_test, y_pred))  \n",
    "print('Mean Squared Error:', metrics.mean_squared_error(y_test, y_pred))  \n",
    "print('Root Mean Squared Error:', np.sqrt(metrics.mean_squared_error(y_test, y_pred)))"
   ]
  }
 ],
 "metadata": {
  "kernelspec": {
   "display_name": "Python 3",
   "language": "python",
   "name": "python3"
  },
  "language_info": {
   "codemirror_mode": {
    "name": "ipython",
    "version": 3
   },
   "file_extension": ".py",
   "mimetype": "text/x-python",
   "name": "python",
   "nbconvert_exporter": "python",
   "pygments_lexer": "ipython3",
   "version": "3.7.4"
  }
 },
 "nbformat": 4,
 "nbformat_minor": 2
}
